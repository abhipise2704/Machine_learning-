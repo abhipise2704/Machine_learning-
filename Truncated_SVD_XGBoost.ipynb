{
  "nbformat": 4,
  "nbformat_minor": 0,
  "metadata": {
    "colab": {
      "name": "Truncated_SVD_XGBoost.ipynb",
      "provenance": [],
      "collapsed_sections": [],
      "include_colab_link": true
    },
    "kernelspec": {
      "display_name": "Python 3",
      "language": "python",
      "name": "python3"
    },
    "language_info": {
      "codemirror_mode": {
        "name": "ipython",
        "version": 3
      },
      "file_extension": ".py",
      "mimetype": "text/x-python",
      "name": "python",
      "nbconvert_exporter": "python",
      "pygments_lexer": "ipython3",
      "version": "3.7.6"
    }
  },
  "cells": [
    {
      "cell_type": "markdown",
      "metadata": {
        "id": "view-in-github",
        "colab_type": "text"
      },
      "source": [
        "<a href=\"https://colab.research.google.com/github/abhipise2704/Machine_learning-/blob/master/Truncated_SVD_XGBoost.ipynb\" target=\"_parent\"><img src=\"https://colab.research.google.com/assets/colab-badge.svg\" alt=\"Open In Colab\"/></a>"
      ]
    },
    {
      "cell_type": "markdown",
      "metadata": {
        "colab_type": "text",
        "id": "-Ab-X-IrCyl0"
      },
      "source": [
        "# DonorsChoose\n",
        "## Assignment 11: TruncatedSVD on Donors Choose dataset \n",
        "### abhipise2704@gmail.com_11"
      ]
    },
    {
      "cell_type": "markdown",
      "metadata": {
        "colab_type": "text",
        "id": "etNpzy7rCyl2"
      },
      "source": [
        "<p>\n",
        "DonorsChoose.org receives hundreds of thousands of project proposals each year for classroom projects in need of funding. Right now, a large number of volunteers is needed to manually screen each submission before it's approved to be posted on the DonorsChoose.org website.\n",
        "</p>\n",
        "<p>\n",
        "    Next year, DonorsChoose.org expects to receive close to 500,000 project proposals. As a result, there are three main problems they need to solve:\n",
        "<ul>\n",
        "<li>\n",
        "    How to scale current manual processes and resources to screen 500,000 projects so that they can be posted as quickly and as efficiently as possible</li>\n",
        "    <li>How to increase the consistency of project vetting across different volunteers to improve the experience for teachers</li>\n",
        "    <li>How to focus volunteer time on the applications that need the most assistance</li>\n",
        "    </ul>\n",
        "</p>    \n",
        "<p>\n",
        "The goal of the competition is to predict whether or not a DonorsChoose.org project proposal submitted by a teacher will be approved, using the text of project descriptions as well as additional metadata about the project, teacher, and school. DonorsChoose.org can then use this information to identify projects most likely to need further review before approval.\n",
        "</p>"
      ]
    },
    {
      "cell_type": "markdown",
      "metadata": {
        "colab_type": "text",
        "id": "kO2Kg7TgCyl4"
      },
      "source": [
        "## About the DonorsChoose Data Set\n",
        "\n",
        "The `train.csv` data set provided by DonorsChoose contains the following features:\n",
        "\n",
        "Feature | Description \n",
        "----------|---------------\n",
        "**`project_id`** | A unique identifier for the proposed project. **Example:** `p036502`   \n",
        "**`project_title`**    | Title of the project. **Examples:**<br><ul><li><code>Art Will Make You Happy!</code></li><li><code>First Grade Fun</code></li></ul> \n",
        "**`project_grade_category`** | Grade level of students for which the project is targeted. One of the following enumerated values: <br/><ul><li><code>Grades PreK-2</code></li><li><code>Grades 3-5</code></li><li><code>Grades 6-8</code></li><li><code>Grades 9-12</code></li></ul>  \n",
        " **`project_subject_categories`** | One or more (comma-separated) subject categories for the project from the following enumerated list of values:  <br/><ul><li><code>Applied Learning</code></li><li><code>Care &amp; Hunger</code></li><li><code>Health &amp; Sports</code></li><li><code>History &amp; Civics</code></li><li><code>Literacy &amp; Language</code></li><li><code>Math &amp; Science</code></li><li><code>Music &amp; The Arts</code></li><li><code>Special Needs</code></li><li><code>Warmth</code></li></ul><br/> **Examples:** <br/><ul><li><code>Music &amp; The Arts</code></li><li><code>Literacy &amp; Language, Math &amp; Science</code></li>  \n",
        "  **`school_state`** | State where school is located ([Two-letter U.S. postal code](https://en.wikipedia.org/wiki/List_of_U.S._state_abbreviations#Postal_codes)). **Example:** `WY`\n",
        "**`project_subject_subcategories`** | One or more (comma-separated) subject subcategories for the project. **Examples:** <br/><ul><li><code>Literacy</code></li><li><code>Literature &amp; Writing, Social Sciences</code></li></ul> \n",
        "**`project_resource_summary`** | An explanation of the resources needed for the project. **Example:** <br/><ul><li><code>My students need hands on literacy materials to manage sensory needs!</code</li></ul> \n",
        "**`project_essay_1`**    | First application essay<sup>*</sup>  \n",
        "**`project_essay_2`**    | Second application essay<sup>*</sup> \n",
        "**`project_essay_3`**    | Third application essay<sup>*</sup> \n",
        "**`project_essay_4`**    | Fourth application essay<sup>*</sup> \n",
        "**`project_submitted_datetime`** | Datetime when project application was submitted. **Example:** `2016-04-28 12:43:56.245`   \n",
        "**`teacher_id`** | A unique identifier for the teacher of the proposed project. **Example:** `bdf8baa8fedef6bfeec7ae4ff1c15c56`  \n",
        "**`teacher_prefix`** | Teacher's title. One of the following enumerated values: <br/><ul><li><code>nan</code></li><li><code>Dr.</code></li><li><code>Mr.</code></li><li><code>Mrs.</code></li><li><code>Ms.</code></li><li><code>Teacher.</code></li></ul>  \n",
        "**`teacher_number_of_previously_posted_projects`** | Number of project applications previously submitted by the same teacher. **Example:** `2` \n",
        "\n",
        "<sup>*</sup> See the section <b>Notes on the Essay Data</b> for more details about these features.\n",
        "\n",
        "Additionally, the `resources.csv` data set provides more data about the resources required for each project. Each line in this file represents a resource required by a project:\n",
        "\n",
        "Feature | Description \n",
        "----------|---------------\n",
        "**`id`** | A `project_id` value from the `train.csv` file.  **Example:** `p036502`   \n",
        "**`description`** | Desciption of the resource. **Example:** `Tenor Saxophone Reeds, Box of 25`   \n",
        "**`quantity`** | Quantity of the resource required. **Example:** `3`   \n",
        "**`price`** | Price of the resource required. **Example:** `9.95`   \n",
        "\n",
        "**Note:** Many projects require multiple resources. The `id` value corresponds to a `project_id` in train.csv, so you use it as a key to retrieve all resources needed for a project:\n",
        "\n",
        "The data set contains the following label (the value you will attempt to predict):\n",
        "\n",
        "Label | Description\n",
        "----------|---------------\n",
        "`project_is_approved` | A binary flag indicating whether DonorsChoose approved the project. A value of `0` indicates the project was not approved, and a value of `1` indicates the project was approved."
      ]
    },
    {
      "cell_type": "markdown",
      "metadata": {
        "colab_type": "text",
        "id": "dBGA_YStCyl6"
      },
      "source": [
        "### Notes on the Essay Data\n",
        "\n",
        "<ul>\n",
        "Prior to May 17, 2016, the prompts for the essays were as follows:\n",
        "<li>__project_essay_1:__ \"Introduce us to your classroom\"</li>\n",
        "<li>__project_essay_2:__ \"Tell us more about your students\"</li>\n",
        "<li>__project_essay_3:__ \"Describe how your students will use the materials you're requesting\"</li>\n",
        "<li>__project_essay_3:__ \"Close by sharing why your project will make a difference\"</li>\n",
        "</ul>\n",
        "\n",
        "\n",
        "<ul>\n",
        "Starting on May 17, 2016, the number of essays was reduced from 4 to 2, and the prompts for the first 2 essays were changed to the following:<br>\n",
        "<li>__project_essay_1:__ \"Describe your students: What makes your students special? Specific details about their background, your neighborhood, and your school are all helpful.\"</li>\n",
        "<li>__project_essay_2:__ \"About your project: How will these materials make a difference in your students' learning and improve their school lives?\"</li>\n",
        "<br>For all projects with project_submitted_datetime of 2016-05-17 and later, the values of project_essay_3 and project_essay_4 will be NaN.\n",
        "</ul>\n"
      ]
    },
    {
      "cell_type": "code",
      "metadata": {
        "colab_type": "code",
        "id": "XTrCJ5p9Cyl7",
        "colab": {}
      },
      "source": [
        "%matplotlib inline\n",
        "import warnings\n",
        "warnings.filterwarnings(\"ignore\")\n",
        "\n",
        "import sqlite3\n",
        "import pandas as pd\n",
        "import numpy as np\n",
        "import nltk\n",
        "import string\n",
        "import matplotlib.pyplot as plt\n",
        "import seaborn as sns\n",
        "from sklearn.feature_extraction.text import TfidfTransformer\n",
        "from sklearn.feature_extraction.text import TfidfVectorizer\n",
        "\n",
        "from sklearn.feature_extraction.text import CountVectorizer\n",
        "from sklearn.metrics import confusion_matrix\n",
        "from sklearn import metrics\n",
        "from sklearn.metrics import roc_curve, auc\n",
        "from nltk.stem.porter import PorterStemmer\n",
        "\n",
        "import re\n",
        "# Tutorial about Python regular expressions: https://pymotw.com/2/re/\n",
        "import string\n",
        "from nltk.corpus import stopwords\n",
        "from nltk.stem import PorterStemmer\n",
        "from nltk.stem.wordnet import WordNetLemmatizer\n",
        "\n",
        "from gensim.models import Word2Vec\n",
        "from gensim.models import KeyedVectors\n",
        "import pickle\n",
        "\n",
        "from tqdm import tqdm\n",
        "import os\n",
        "\n",
        "#from plotly import plotly\n",
        "#import plotly.offline as offline\n",
        "#import plotly.graph_objs as go\n",
        "#offline.init_notebook_mode()\n",
        "from collections import Counter"
      ],
      "execution_count": 0,
      "outputs": []
    },
    {
      "cell_type": "markdown",
      "metadata": {
        "colab_type": "text",
        "id": "JQokiRlt5tlU"
      },
      "source": [
        "# 1 Data Preprocessing "
      ]
    },
    {
      "cell_type": "markdown",
      "metadata": {
        "colab_type": "text",
        "id": "MjknLZQqCymQ"
      },
      "source": [
        "## 1.1 Reading Data"
      ]
    },
    {
      "cell_type": "code",
      "metadata": {
        "colab_type": "code",
        "id": "abtcqBS8CymT",
        "colab": {}
      },
      "source": [
        "#project_data = pd.read_csv('train_data.csv')\n",
        "#resource_data = pd.read_csv('resources.csv')"
      ],
      "execution_count": 0,
      "outputs": []
    },
    {
      "cell_type": "code",
      "metadata": {
        "colab_type": "code",
        "id": "_FFG1raM5tlc",
        "outputId": "7c394d8a-89fe-4051-e7c3-a3d43b6cbb0c",
        "colab": {}
      },
      "source": [
        "# https://stackoverflow.com/questions/22407798/how-to-reset-a-dataframes-indexes-for-all-groups-in-one-step\n",
        "price_data = resource_data.groupby('id').agg({'price':'sum', 'quantity':'sum'}).reset_index()\n",
        "price_data.head(2)"
      ],
      "execution_count": 0,
      "outputs": [
        {
          "output_type": "execute_result",
          "data": {
            "text/html": [
              "<div>\n",
              "<style scoped>\n",
              "    .dataframe tbody tr th:only-of-type {\n",
              "        vertical-align: middle;\n",
              "    }\n",
              "\n",
              "    .dataframe tbody tr th {\n",
              "        vertical-align: top;\n",
              "    }\n",
              "\n",
              "    .dataframe thead th {\n",
              "        text-align: right;\n",
              "    }\n",
              "</style>\n",
              "<table border=\"1\" class=\"dataframe\">\n",
              "  <thead>\n",
              "    <tr style=\"text-align: right;\">\n",
              "      <th></th>\n",
              "      <th>id</th>\n",
              "      <th>price</th>\n",
              "      <th>quantity</th>\n",
              "    </tr>\n",
              "  </thead>\n",
              "  <tbody>\n",
              "    <tr>\n",
              "      <th>0</th>\n",
              "      <td>p000001</td>\n",
              "      <td>459.56</td>\n",
              "      <td>7</td>\n",
              "    </tr>\n",
              "    <tr>\n",
              "      <th>1</th>\n",
              "      <td>p000002</td>\n",
              "      <td>515.89</td>\n",
              "      <td>21</td>\n",
              "    </tr>\n",
              "  </tbody>\n",
              "</table>\n",
              "</div>"
            ],
            "text/plain": [
              "        id   price  quantity\n",
              "0  p000001  459.56         7\n",
              "1  p000002  515.89        21"
            ]
          },
          "metadata": {
            "tags": []
          },
          "execution_count": 3
        }
      ]
    },
    {
      "cell_type": "code",
      "metadata": {
        "colab_type": "code",
        "id": "iOs7oaYC5tlk",
        "colab": {}
      },
      "source": [
        "# join two dataframes in python: \n",
        "project_data = pd.merge(project_data, price_data, on='id', how='left')"
      ],
      "execution_count": 0,
      "outputs": []
    },
    {
      "cell_type": "code",
      "metadata": {
        "colab_type": "code",
        "id": "Prf2ghjDCymX",
        "outputId": "226c1b3c-35c9-48bd-afc9-7a819c871e8d",
        "colab": {}
      },
      "source": [
        "print(\"Number of data points in train data\", project_data.shape)\n",
        "print('-'*50)\n",
        "print(\"The attributes of data :\", project_data.columns.values)"
      ],
      "execution_count": 0,
      "outputs": [
        {
          "output_type": "stream",
          "text": [
            "Number of data points in train data (109248, 19)\n",
            "--------------------------------------------------\n",
            "The attributes of data : ['Unnamed: 0' 'id' 'teacher_id' 'teacher_prefix' 'school_state'\n",
            " 'project_submitted_datetime' 'project_grade_category'\n",
            " 'project_subject_categories' 'project_subject_subcategories'\n",
            " 'project_title' 'project_essay_1' 'project_essay_2' 'project_essay_3'\n",
            " 'project_essay_4' 'project_resource_summary'\n",
            " 'teacher_number_of_previously_posted_projects' 'project_is_approved'\n",
            " 'price' 'quantity']\n"
          ],
          "name": "stdout"
        }
      ]
    },
    {
      "cell_type": "code",
      "metadata": {
        "colab_type": "code",
        "id": "BTGMDQoPCymc",
        "outputId": "5b3c47b3-d5d0-416b-b512-a59b77f60f0b",
        "colab": {}
      },
      "source": [
        "# how to replace elements in list python: https://stackoverflow.com/a/2582163/4084039\n",
        "cols = ['Date' if x=='project_submitted_datetime' else x for x in list(project_data.columns)]\n",
        "\n",
        "\n",
        "#sort dataframe based on time pandas python: https://stackoverflow.com/a/49702492/4084039\n",
        "project_data['Date'] = pd.to_datetime(project_data['project_submitted_datetime'])\n",
        "project_data.drop('project_submitted_datetime', axis=1, inplace=True)\n",
        "project_data.sort_values(by=['Date'], inplace=True)\n",
        "\n",
        "\n",
        "# how to reorder columns pandas python: https://stackoverflow.com/a/13148611/4084039\n",
        "project_data = project_data[cols]\n",
        "\n",
        "\n",
        "project_data.head(2)"
      ],
      "execution_count": 0,
      "outputs": [
        {
          "output_type": "execute_result",
          "data": {
            "text/html": [
              "<div>\n",
              "<style scoped>\n",
              "    .dataframe tbody tr th:only-of-type {\n",
              "        vertical-align: middle;\n",
              "    }\n",
              "\n",
              "    .dataframe tbody tr th {\n",
              "        vertical-align: top;\n",
              "    }\n",
              "\n",
              "    .dataframe thead th {\n",
              "        text-align: right;\n",
              "    }\n",
              "</style>\n",
              "<table border=\"1\" class=\"dataframe\">\n",
              "  <thead>\n",
              "    <tr style=\"text-align: right;\">\n",
              "      <th></th>\n",
              "      <th>Unnamed: 0</th>\n",
              "      <th>id</th>\n",
              "      <th>teacher_id</th>\n",
              "      <th>teacher_prefix</th>\n",
              "      <th>school_state</th>\n",
              "      <th>Date</th>\n",
              "      <th>project_grade_category</th>\n",
              "      <th>project_subject_categories</th>\n",
              "      <th>project_subject_subcategories</th>\n",
              "      <th>project_title</th>\n",
              "      <th>project_essay_1</th>\n",
              "      <th>project_essay_2</th>\n",
              "      <th>project_essay_3</th>\n",
              "      <th>project_essay_4</th>\n",
              "      <th>project_resource_summary</th>\n",
              "      <th>teacher_number_of_previously_posted_projects</th>\n",
              "      <th>project_is_approved</th>\n",
              "      <th>price</th>\n",
              "      <th>quantity</th>\n",
              "    </tr>\n",
              "  </thead>\n",
              "  <tbody>\n",
              "    <tr>\n",
              "      <th>55660</th>\n",
              "      <td>8393</td>\n",
              "      <td>p205479</td>\n",
              "      <td>2bf07ba08945e5d8b2a3f269b2b3cfe5</td>\n",
              "      <td>Mrs.</td>\n",
              "      <td>CA</td>\n",
              "      <td>2016-04-27 00:27:36</td>\n",
              "      <td>Grades PreK-2</td>\n",
              "      <td>Math &amp; Science</td>\n",
              "      <td>Applied Sciences, Health &amp; Life Science</td>\n",
              "      <td>Engineering STEAM into the Primary Classroom</td>\n",
              "      <td>I have been fortunate enough to use the Fairy ...</td>\n",
              "      <td>My students come from a variety of backgrounds...</td>\n",
              "      <td>Each month I try to do several science or STEM...</td>\n",
              "      <td>It is challenging to develop high quality scie...</td>\n",
              "      <td>My students need STEM kits to learn critical s...</td>\n",
              "      <td>53</td>\n",
              "      <td>1</td>\n",
              "      <td>725.05</td>\n",
              "      <td>4</td>\n",
              "    </tr>\n",
              "    <tr>\n",
              "      <th>76127</th>\n",
              "      <td>37728</td>\n",
              "      <td>p043609</td>\n",
              "      <td>3f60494c61921b3b43ab61bdde2904df</td>\n",
              "      <td>Ms.</td>\n",
              "      <td>UT</td>\n",
              "      <td>2016-04-27 00:31:25</td>\n",
              "      <td>Grades 3-5</td>\n",
              "      <td>Special Needs</td>\n",
              "      <td>Special Needs</td>\n",
              "      <td>Sensory Tools for Focus</td>\n",
              "      <td>Imagine being 8-9 years old. You're in your th...</td>\n",
              "      <td>Most of my students have autism, anxiety, anot...</td>\n",
              "      <td>It is tough to do more than one thing at a tim...</td>\n",
              "      <td>When my students are able to calm themselves d...</td>\n",
              "      <td>My students need Boogie Boards for quiet senso...</td>\n",
              "      <td>4</td>\n",
              "      <td>1</td>\n",
              "      <td>213.03</td>\n",
              "      <td>8</td>\n",
              "    </tr>\n",
              "  </tbody>\n",
              "</table>\n",
              "</div>"
            ],
            "text/plain": [
              "       Unnamed: 0       id                        teacher_id teacher_prefix  \\\n",
              "55660        8393  p205479  2bf07ba08945e5d8b2a3f269b2b3cfe5           Mrs.   \n",
              "76127       37728  p043609  3f60494c61921b3b43ab61bdde2904df            Ms.   \n",
              "\n",
              "      school_state                Date project_grade_category  \\\n",
              "55660           CA 2016-04-27 00:27:36          Grades PreK-2   \n",
              "76127           UT 2016-04-27 00:31:25             Grades 3-5   \n",
              "\n",
              "      project_subject_categories            project_subject_subcategories  \\\n",
              "55660             Math & Science  Applied Sciences, Health & Life Science   \n",
              "76127              Special Needs                            Special Needs   \n",
              "\n",
              "                                      project_title  \\\n",
              "55660  Engineering STEAM into the Primary Classroom   \n",
              "76127                       Sensory Tools for Focus   \n",
              "\n",
              "                                         project_essay_1  \\\n",
              "55660  I have been fortunate enough to use the Fairy ...   \n",
              "76127  Imagine being 8-9 years old. You're in your th...   \n",
              "\n",
              "                                         project_essay_2  \\\n",
              "55660  My students come from a variety of backgrounds...   \n",
              "76127  Most of my students have autism, anxiety, anot...   \n",
              "\n",
              "                                         project_essay_3  \\\n",
              "55660  Each month I try to do several science or STEM...   \n",
              "76127  It is tough to do more than one thing at a tim...   \n",
              "\n",
              "                                         project_essay_4  \\\n",
              "55660  It is challenging to develop high quality scie...   \n",
              "76127  When my students are able to calm themselves d...   \n",
              "\n",
              "                                project_resource_summary  \\\n",
              "55660  My students need STEM kits to learn critical s...   \n",
              "76127  My students need Boogie Boards for quiet senso...   \n",
              "\n",
              "       teacher_number_of_previously_posted_projects  project_is_approved  \\\n",
              "55660                                            53                    1   \n",
              "76127                                             4                    1   \n",
              "\n",
              "        price  quantity  \n",
              "55660  725.05         4  \n",
              "76127  213.03         8  "
            ]
          },
          "metadata": {
            "tags": []
          },
          "execution_count": 6
        }
      ]
    },
    {
      "cell_type": "code",
      "metadata": {
        "colab_type": "code",
        "id": "ntdWuRoUCymj",
        "outputId": "7f1911f2-61b8-4069-bfb0-9fdfeb2419e3",
        "colab": {}
      },
      "source": [
        "print(\"Number of data points in train data\", resource_data.shape)\n",
        "print(resource_data.columns.values)\n",
        "resource_data.head(2)"
      ],
      "execution_count": 0,
      "outputs": [
        {
          "output_type": "stream",
          "text": [
            "Number of data points in train data (1541272, 4)\n",
            "['id' 'description' 'quantity' 'price']\n"
          ],
          "name": "stdout"
        },
        {
          "output_type": "execute_result",
          "data": {
            "text/html": [
              "<div>\n",
              "<style scoped>\n",
              "    .dataframe tbody tr th:only-of-type {\n",
              "        vertical-align: middle;\n",
              "    }\n",
              "\n",
              "    .dataframe tbody tr th {\n",
              "        vertical-align: top;\n",
              "    }\n",
              "\n",
              "    .dataframe thead th {\n",
              "        text-align: right;\n",
              "    }\n",
              "</style>\n",
              "<table border=\"1\" class=\"dataframe\">\n",
              "  <thead>\n",
              "    <tr style=\"text-align: right;\">\n",
              "      <th></th>\n",
              "      <th>id</th>\n",
              "      <th>description</th>\n",
              "      <th>quantity</th>\n",
              "      <th>price</th>\n",
              "    </tr>\n",
              "  </thead>\n",
              "  <tbody>\n",
              "    <tr>\n",
              "      <th>0</th>\n",
              "      <td>p233245</td>\n",
              "      <td>LC652 - Lakeshore Double-Space Mobile Drying Rack</td>\n",
              "      <td>1</td>\n",
              "      <td>149.00</td>\n",
              "    </tr>\n",
              "    <tr>\n",
              "      <th>1</th>\n",
              "      <td>p069063</td>\n",
              "      <td>Bouncy Bands for Desks (Blue support pipes)</td>\n",
              "      <td>3</td>\n",
              "      <td>14.95</td>\n",
              "    </tr>\n",
              "  </tbody>\n",
              "</table>\n",
              "</div>"
            ],
            "text/plain": [
              "        id                                        description  quantity  \\\n",
              "0  p233245  LC652 - Lakeshore Double-Space Mobile Drying Rack         1   \n",
              "1  p069063        Bouncy Bands for Desks (Blue support pipes)         3   \n",
              "\n",
              "    price  \n",
              "0  149.00  \n",
              "1   14.95  "
            ]
          },
          "metadata": {
            "tags": []
          },
          "execution_count": 7
        }
      ]
    },
    {
      "cell_type": "markdown",
      "metadata": {
        "colab_type": "text",
        "id": "6WZaYhwJCymp"
      },
      "source": [
        "## 1.2 preprocessing of `project_subject_categories`"
      ]
    },
    {
      "cell_type": "code",
      "metadata": {
        "colab_type": "code",
        "id": "Mdkhq7PRCymr",
        "colab": {}
      },
      "source": [
        "catogories = list(project_data['project_subject_categories'].values)\n",
        "# remove special characters from list of strings python: https://stackoverflow.com/a/47301924/4084039\n",
        "\n",
        "# https://www.geeksforgeeks.org/removing-stop-words-nltk-python/\n",
        "# https://stackoverflow.com/questions/23669024/how-to-strip-a-specific-word-from-a-string\n",
        "# https://stackoverflow.com/questions/8270092/remove-all-whitespace-in-a-string-in-python\n",
        "cat_list = []\n",
        "for i in catogories:\n",
        "    temp = \"\"\n",
        "    # consider we have text like this \"Math & Science, Warmth, Care & Hunger\"\n",
        "    for j in i.split(','): # it will split it in three parts [\"Math & Science\", \"Warmth\", \"Care & Hunger\"]\n",
        "        if 'The' in j.split(): # this will split each of the catogory based on space \"Math & Science\"=> \"Math\",\"&\", \"Science\"\n",
        "            j=j.replace('The','') # if we have the words \"The\" we are going to replace it with ''(i.e removing 'The')\n",
        "        j = j.replace(' ','') # we are placeing all the ' '(space) with ''(empty) ex:\"Math & Science\"=>\"Math&Science\"\n",
        "        temp+=j.strip()+\" \" #\" abc \".strip() will return \"abc\", remove the trailing spaces\n",
        "        temp = temp.replace('&','_') # we are replacing the & value into \n",
        "    cat_list.append(temp.strip())\n",
        "    \n",
        "project_data['clean_categories'] = cat_list\n",
        "project_data.drop(['project_subject_categories'], axis=1, inplace=True)\n",
        "\n",
        "from collections import Counter\n",
        "my_counter = Counter()\n",
        "for word in project_data['clean_categories'].values:\n",
        "    my_counter.update(word.split())\n",
        "\n",
        "cat_dict = dict(my_counter)\n",
        "sorted_cat_dict = dict(sorted(cat_dict.items(), key=lambda kv: kv[1]))\n"
      ],
      "execution_count": 0,
      "outputs": []
    },
    {
      "cell_type": "markdown",
      "metadata": {
        "colab_type": "text",
        "id": "386yx3T2Cymv"
      },
      "source": [
        "## 1.3 preprocessing of `project_subject_subcategories`"
      ]
    },
    {
      "cell_type": "code",
      "metadata": {
        "colab_type": "code",
        "id": "4QSP0r8XCymw",
        "colab": {}
      },
      "source": [
        "sub_catogories = list(project_data['project_subject_subcategories'].values)\n",
        "# remove special characters from list of strings python: https://stackoverflow.com/a/47301924/4084039\n",
        "\n",
        "# https://www.geeksforgeeks.org/removing-stop-words-nltk-python/\n",
        "# https://stackoverflow.com/questions/23669024/how-to-strip-a-specific-word-from-a-string\n",
        "# https://stackoverflow.com/questions/8270092/remove-all-whitespace-in-a-string-in-python\n",
        "\n",
        "sub_cat_list = []\n",
        "for i in sub_catogories:\n",
        "    temp = \"\"\n",
        "    # consider we have text like this \"Math & Science, Warmth, Care & Hunger\"\n",
        "    for j in i.split(','): # it will split it in three parts [\"Math & Science\", \"Warmth\", \"Care & Hunger\"]\n",
        "        if 'The' in j.split(): # this will split each of the catogory based on space \"Math & Science\"=> \"Math\",\"&\", \"Science\"\n",
        "            j=j.replace('The','') # if we have the words \"The\" we are going to replace it with ''(i.e removing 'The')\n",
        "        j = j.replace(' ','') # we are placeing all the ' '(space) with ''(empty) ex:\"Math & Science\"=>\"Math&Science\"\n",
        "        temp +=j.strip()+\" \"#\" abc \".strip() will return \"abc\", remove the trailing spaces\n",
        "        temp = temp.replace('&','_')\n",
        "    sub_cat_list.append(temp.strip())\n",
        "\n",
        "project_data['clean_subcategories'] = sub_cat_list\n",
        "project_data.drop(['project_subject_subcategories'], axis=1, inplace=True)\n",
        "\n",
        "# count of all the words in corpus python: https://stackoverflow.com/a/22898595/4084039\n",
        "my_counter = Counter()\n",
        "for word in project_data['clean_subcategories'].values:\n",
        "    my_counter.update(word.split())\n",
        "    \n",
        "sub_cat_dict = dict(my_counter)\n",
        "sorted_sub_cat_dict = dict(sorted(sub_cat_dict.items(), key=lambda kv: kv[1]))"
      ],
      "execution_count": 0,
      "outputs": []
    },
    {
      "cell_type": "markdown",
      "metadata": {
        "colab_type": "text",
        "id": "3HnjN-cC5tmP"
      },
      "source": [
        "## 1.4 preprocessing of `Project_Grade_Category`"
      ]
    },
    {
      "cell_type": "code",
      "metadata": {
        "colab_type": "code",
        "id": "HIPQ8zhG5tmR",
        "outputId": "8845c81d-ce5f-4dbb-df08-afa0749ba10b",
        "colab": {}
      },
      "source": [
        "#https://www.kaggle.com/naveennagari/donorschoose-eda-and-tsne/notebook\n",
        "\n",
        "cleaned_Grades=[]\n",
        "for grade in tqdm(project_data['project_grade_category'].values):\n",
        "    grade = grade.replace(' ', '_')\n",
        "    grade = grade.replace('-', '_')\n",
        "    cleaned_Grades.append(grade)\n",
        "project_data['cleaned_Grades']=cleaned_Grades\n",
        "\n",
        "\n",
        "project_data.drop(['project_grade_category'], axis=1, inplace=True)"
      ],
      "execution_count": 0,
      "outputs": [
        {
          "output_type": "stream",
          "text": [
            "100%|██████████████████████████████████████████████████████████████████████████████████████████████████████████████████████| 109248/109248 [00:00<00:00, 471195.09it/s]\n"
          ],
          "name": "stderr"
        }
      ]
    },
    {
      "cell_type": "code",
      "metadata": {
        "colab_type": "code",
        "id": "BidUvu5z5tmY",
        "outputId": "774cee9e-6f3e-415d-d667-8d48fa551c2b",
        "scrolled": true,
        "colab": {}
      },
      "source": [
        "project_data['cleaned_Grades'][:5]"
      ],
      "execution_count": 0,
      "outputs": [
        {
          "output_type": "execute_result",
          "data": {
            "text/plain": [
              "55660    Grades_PreK_2\n",
              "76127       Grades_3_5\n",
              "51140    Grades_PreK_2\n",
              "473      Grades_PreK_2\n",
              "41558       Grades_3_5\n",
              "Name: cleaned_Grades, dtype: object"
            ]
          },
          "metadata": {
            "tags": []
          },
          "execution_count": 11
        }
      ]
    },
    {
      "cell_type": "markdown",
      "metadata": {
        "colab_type": "text",
        "id": "Ei2BE30A5tme"
      },
      "source": [
        "## 1.4 preprocessing of `School State`"
      ]
    },
    {
      "cell_type": "code",
      "metadata": {
        "colab_type": "code",
        "id": "-1hZ8Bf35tmg",
        "colab": {}
      },
      "source": [
        "from collections import Counter\n",
        "my_counter = Counter()\n",
        "for word in project_data['school_state'].values:\n",
        "    my_counter.update(word.split())\n",
        "    \n",
        "state__ = dict(my_counter)\n",
        "sorted_state_dict = dict(sorted(state__.items(), key=lambda kv: kv[1]))"
      ],
      "execution_count": 0,
      "outputs": []
    },
    {
      "cell_type": "markdown",
      "metadata": {
        "colab_type": "text",
        "id": "Yv0oYhAy5tmo"
      },
      "source": [
        "## 1.5 preprocessing of `Teacher Prefix`"
      ]
    },
    {
      "cell_type": "code",
      "metadata": {
        "colab_type": "code",
        "id": "Rl_ib-qm5tmq",
        "colab": {}
      },
      "source": [
        "#https://towardsdatascience.com/5-methods-to-remove-the-from-your-data-in-python-and-the-fastest-one-281489382455\n",
        "\n",
        "project_data['teacher_prefix_clean']=project_data.teacher_prefix.str.replace('.','')\n",
        "\n",
        "\n",
        "#https://stackoverflow.com/questions/23158447/convert-float-to-string-in-pandas\n",
        "\n",
        "project_data['teacher_prefix_clean'] = project_data['teacher_prefix_clean'].astype(str)\n",
        "\n",
        "from collections import Counter\n",
        "my_counter = Counter()\n",
        "for word in project_data['teacher_prefix_clean'].values:\n",
        "    my_counter.update(word.split())\n",
        "    \n",
        "\n",
        "teacher_dict = dict(my_counter)\n",
        "sorted_teacher_dict = dict(sorted(teacher_dict.items(), key=lambda kv: kv[1]))\n",
        "\n",
        "\n",
        "project_data.drop(['teacher_prefix'], axis=1, inplace=True)"
      ],
      "execution_count": 0,
      "outputs": []
    },
    {
      "cell_type": "markdown",
      "metadata": {
        "colab_type": "text",
        "id": "NANzhWlLCynN"
      },
      "source": [
        "## 1.6 Text preprocessing of `essay`"
      ]
    },
    {
      "cell_type": "code",
      "metadata": {
        "colab_type": "code",
        "id": "yqsmu-BTCynQ",
        "colab": {}
      },
      "source": [
        "# merge two column text dataframe: \n",
        "project_data[\"essay\"] = project_data[\"project_essay_1\"].map(str) +\\\n",
        "                        project_data[\"project_essay_2\"].map(str) + \\\n",
        "                        project_data[\"project_essay_3\"].map(str) + \\\n",
        "                        project_data[\"project_essay_4\"].map(str)"
      ],
      "execution_count": 0,
      "outputs": []
    },
    {
      "cell_type": "code",
      "metadata": {
        "colab_type": "code",
        "id": "xxtnd3maCynV",
        "outputId": "2002cbb7-9006-4764-ee13-c990d1a3a99e",
        "colab": {}
      },
      "source": [
        "project_data.head(2)"
      ],
      "execution_count": 0,
      "outputs": [
        {
          "output_type": "execute_result",
          "data": {
            "text/html": [
              "<div>\n",
              "<style scoped>\n",
              "    .dataframe tbody tr th:only-of-type {\n",
              "        vertical-align: middle;\n",
              "    }\n",
              "\n",
              "    .dataframe tbody tr th {\n",
              "        vertical-align: top;\n",
              "    }\n",
              "\n",
              "    .dataframe thead th {\n",
              "        text-align: right;\n",
              "    }\n",
              "</style>\n",
              "<table border=\"1\" class=\"dataframe\">\n",
              "  <thead>\n",
              "    <tr style=\"text-align: right;\">\n",
              "      <th></th>\n",
              "      <th>Unnamed: 0</th>\n",
              "      <th>id</th>\n",
              "      <th>teacher_id</th>\n",
              "      <th>school_state</th>\n",
              "      <th>Date</th>\n",
              "      <th>project_title</th>\n",
              "      <th>project_essay_1</th>\n",
              "      <th>project_essay_2</th>\n",
              "      <th>project_essay_3</th>\n",
              "      <th>project_essay_4</th>\n",
              "      <th>project_resource_summary</th>\n",
              "      <th>teacher_number_of_previously_posted_projects</th>\n",
              "      <th>project_is_approved</th>\n",
              "      <th>price</th>\n",
              "      <th>quantity</th>\n",
              "      <th>clean_categories</th>\n",
              "      <th>clean_subcategories</th>\n",
              "      <th>cleaned_Grades</th>\n",
              "      <th>teacher_prefix_clean</th>\n",
              "      <th>essay</th>\n",
              "    </tr>\n",
              "  </thead>\n",
              "  <tbody>\n",
              "    <tr>\n",
              "      <th>55660</th>\n",
              "      <td>8393</td>\n",
              "      <td>p205479</td>\n",
              "      <td>2bf07ba08945e5d8b2a3f269b2b3cfe5</td>\n",
              "      <td>CA</td>\n",
              "      <td>2016-04-27 00:27:36</td>\n",
              "      <td>Engineering STEAM into the Primary Classroom</td>\n",
              "      <td>I have been fortunate enough to use the Fairy ...</td>\n",
              "      <td>My students come from a variety of backgrounds...</td>\n",
              "      <td>Each month I try to do several science or STEM...</td>\n",
              "      <td>It is challenging to develop high quality scie...</td>\n",
              "      <td>My students need STEM kits to learn critical s...</td>\n",
              "      <td>53</td>\n",
              "      <td>1</td>\n",
              "      <td>725.05</td>\n",
              "      <td>4</td>\n",
              "      <td>Math_Science</td>\n",
              "      <td>AppliedSciences Health_LifeScience</td>\n",
              "      <td>Grades_PreK_2</td>\n",
              "      <td>Mrs</td>\n",
              "      <td>I have been fortunate enough to use the Fairy ...</td>\n",
              "    </tr>\n",
              "    <tr>\n",
              "      <th>76127</th>\n",
              "      <td>37728</td>\n",
              "      <td>p043609</td>\n",
              "      <td>3f60494c61921b3b43ab61bdde2904df</td>\n",
              "      <td>UT</td>\n",
              "      <td>2016-04-27 00:31:25</td>\n",
              "      <td>Sensory Tools for Focus</td>\n",
              "      <td>Imagine being 8-9 years old. You're in your th...</td>\n",
              "      <td>Most of my students have autism, anxiety, anot...</td>\n",
              "      <td>It is tough to do more than one thing at a tim...</td>\n",
              "      <td>When my students are able to calm themselves d...</td>\n",
              "      <td>My students need Boogie Boards for quiet senso...</td>\n",
              "      <td>4</td>\n",
              "      <td>1</td>\n",
              "      <td>213.03</td>\n",
              "      <td>8</td>\n",
              "      <td>SpecialNeeds</td>\n",
              "      <td>SpecialNeeds</td>\n",
              "      <td>Grades_3_5</td>\n",
              "      <td>Ms</td>\n",
              "      <td>Imagine being 8-9 years old. You're in your th...</td>\n",
              "    </tr>\n",
              "  </tbody>\n",
              "</table>\n",
              "</div>"
            ],
            "text/plain": [
              "       Unnamed: 0       id                        teacher_id school_state  \\\n",
              "55660        8393  p205479  2bf07ba08945e5d8b2a3f269b2b3cfe5           CA   \n",
              "76127       37728  p043609  3f60494c61921b3b43ab61bdde2904df           UT   \n",
              "\n",
              "                     Date                                 project_title  \\\n",
              "55660 2016-04-27 00:27:36  Engineering STEAM into the Primary Classroom   \n",
              "76127 2016-04-27 00:31:25                       Sensory Tools for Focus   \n",
              "\n",
              "                                         project_essay_1  \\\n",
              "55660  I have been fortunate enough to use the Fairy ...   \n",
              "76127  Imagine being 8-9 years old. You're in your th...   \n",
              "\n",
              "                                         project_essay_2  \\\n",
              "55660  My students come from a variety of backgrounds...   \n",
              "76127  Most of my students have autism, anxiety, anot...   \n",
              "\n",
              "                                         project_essay_3  \\\n",
              "55660  Each month I try to do several science or STEM...   \n",
              "76127  It is tough to do more than one thing at a tim...   \n",
              "\n",
              "                                         project_essay_4  \\\n",
              "55660  It is challenging to develop high quality scie...   \n",
              "76127  When my students are able to calm themselves d...   \n",
              "\n",
              "                                project_resource_summary  \\\n",
              "55660  My students need STEM kits to learn critical s...   \n",
              "76127  My students need Boogie Boards for quiet senso...   \n",
              "\n",
              "       teacher_number_of_previously_posted_projects  project_is_approved  \\\n",
              "55660                                            53                    1   \n",
              "76127                                             4                    1   \n",
              "\n",
              "        price  quantity clean_categories                 clean_subcategories  \\\n",
              "55660  725.05         4     Math_Science  AppliedSciences Health_LifeScience   \n",
              "76127  213.03         8     SpecialNeeds                        SpecialNeeds   \n",
              "\n",
              "      cleaned_Grades teacher_prefix_clean  \\\n",
              "55660  Grades_PreK_2                  Mrs   \n",
              "76127     Grades_3_5                   Ms   \n",
              "\n",
              "                                                   essay  \n",
              "55660  I have been fortunate enough to use the Fairy ...  \n",
              "76127  Imagine being 8-9 years old. You're in your th...  "
            ]
          },
          "metadata": {
            "tags": []
          },
          "execution_count": 15
        }
      ]
    },
    {
      "cell_type": "code",
      "metadata": {
        "colab_type": "code",
        "id": "2ou8qSzkCyna",
        "colab": {}
      },
      "source": [
        "#### Using Pretrained Models: TFIDF weighted W2V"
      ],
      "execution_count": 0,
      "outputs": []
    },
    {
      "cell_type": "code",
      "metadata": {
        "colab_type": "code",
        "id": "TCl7L1DhCyne",
        "outputId": "c1e9c200-8868-4b26-adbd-7836d815abef",
        "colab": {}
      },
      "source": [
        "# printing some random reviews\n",
        "print(project_data['essay'].values[0])\n",
        "print(\"=\"*50)\n",
        "print(project_data['essay'].values[150])\n",
        "print(\"=\"*50)\n",
        "print(project_data['essay'].values[1000])\n",
        "print(\"=\"*50)\n",
        "print(project_data['essay'].values[15000])\n",
        "print(\"=\"*50)\n",
        "print(project_data['essay'].values[40000])\n",
        "print(\"=\"*50)"
      ],
      "execution_count": 0,
      "outputs": [
        {
          "output_type": "stream",
          "text": [
            "I have been fortunate enough to use the Fairy Tale STEM kits in my classroom as well as the STEM journals, which my students really enjoyed.  I would love to implement more of the Lakeshore STEM kits in my classroom for the next school year as they provide excellent and engaging STEM lessons.My students come from a variety of backgrounds, including language and socioeconomic status.  Many of them don't have a lot of experience in science and engineering and these kits give me the materials to provide these exciting opportunities for my students.Each month I try to do several science or STEM/STEAM projects.  I would use the kits and robot to help guide my science instruction in engaging and meaningful ways.  I can adapt the kits to my current language arts pacing guide where we already teach some of the material in the kits like tall tales (Paul Bunyan) or Johnny Appleseed.  The following units will be taught in the next school year where I will implement these kits: magnets, motion, sink vs. float, robots.  I often get to these units and don't know If I am teaching the right way or using the right materials.    The kits will give me additional ideas, strategies, and lessons to prepare my students in science.It is challenging to develop high quality science activities.  These kits give me the materials I need to provide my students with science activities that will go along with the curriculum in my classroom.  Although I have some things (like magnets) in my classroom, I don't know how to use them effectively.  The kits will provide me with the right amount of materials and show me how to use them in an appropriate way.\n",
            "==================================================\n",
            "I teach high school English to students with learning and behavioral disabilities. My students all vary in their ability level. However, the ultimate goal is to increase all students literacy levels. This includes their reading, writing, and communication levels.I teach a really dynamic group of students. However, my students face a lot of challenges. My students all live in poverty and in a dangerous neighborhood. Despite these challenges, I have students who have the the desire to defeat these challenges. My students all have learning disabilities and currently all are performing below grade level. My students are visual learners and will benefit from a classroom that fulfills their preferred learning style.The materials I am requesting will allow my students to be prepared for the classroom with the necessary supplies.  Too often I am challenged with students who come to school unprepared for class due to economic challenges.  I want my students to be able to focus on learning and not how they will be able to get school supplies.  The supplies will last all year.  Students will be able to complete written assignments and maintain a classroom journal.  The chart paper will be used to make learning more visual in class and to create posters to aid students in their learning.  The students have access to a classroom printer.  The toner will be used to print student work that is completed on the classroom Chromebooks.I want to try and remove all barriers for the students learning and create opportunities for learning. One of the biggest barriers is the students not having the resources to get pens, paper, and folders. My students will be able to increase their literacy skills because of this project.\n",
            "==================================================\n",
            "\\\"Life moves pretty fast. If you don't stop and look around once in awhile, you could miss it.\\\"  from the movie, Ferris Bueller's Day Off.  Think back...what do you remember about your grandparents?  How amazing would it be to be able to flip through a book to see a day in their lives?My second graders are voracious readers! They love to read both fiction and nonfiction books.  Their favorite characters include Pete the Cat, Fly Guy, Piggie and Elephant, and Mercy Watson. They also love to read about insects, space and plants. My students are hungry bookworms! My students are eager to learn and read about the world around them. My kids love to be at school and are like little sponges absorbing everything around them. Their parents work long hours and usually do not see their children. My students are usually cared for by their grandparents or a family friend. Most of my students do not have someone who speaks English at home. Thus it is difficult for my students to acquire language.Now think forward... wouldn't it mean a lot to your kids, nieces or nephews or grandchildren, to be able to see a day in your life today 30 years from now? Memories are so precious to us and being able to share these memories with future generations will be a rewarding experience.  As part of our social studies curriculum, students will be learning about changes over time.  Students will be studying photos to learn about how their community has changed over time.  In particular, we will look at photos to study how the land, buildings, clothing, and schools have changed over time.  As a culminating activity, my students will capture a slice of their history and preserve it through scrap booking. Key important events in their young lives will be documented with the date, location, and names.   Students will be using photos from home and from school to create their second grade memories.   Their scrap books will preserve their unique stories for future generations to enjoy.Your donation to this project will provide my second graders with an opportunity to learn about social studies in a fun and creative manner.  Through their scrapbooks, children will share their story with others and have a historical document for the rest of their lives.\n",
            "==================================================\n",
            "My classroom is full of energized, loving, and creative students with Autism. They are eager to learn and thrive off of adult led instruction. However, in most cases, independence does not come naturally to children with Autism. My job as an educator is to teach the standards, but in my classroom that looks very different. I focus on social skills, communication, and independence along with the standards. \\r\\n\\r\\nMy student's needs are best met with one-on-one instruction. This means that I must build independent skills with my students. My students rotate through centers that rotate from an adult led center and an independent center. This works great to keep routine and structure for the students. If I am able to influence my students to function more independently, it will create a successful path for their future!My students require adult support throughout their day. In order for me to be able to work with each student one-on-one, I have to create opportunities for my students to work independently. The couch will allow my students to listen to books on tape without adult assistance. \\r\\nThis will help my students build their love for reading while building independence. I am also asking for materials for students to complete during an independent center (Blocks and Blueprints and the sequence and write). \\r\\nSince communication is an area of need for students with Autism I have requested the Lets Get Talking prompt box. This will be used each morning during our circle time to encourage conversations. My paras and I will be able to lead the discussion and provide each student with opportunities to participate in a group. \\r\\nThe sensory mats will be used for my students as  visual to sit on during carpet time or stand using appropriate spacing from each other. The mats will also be used for sensory input when needed. My students do well with structure and routine which is why I am asking for the light up timer. The color changing visual will help prepare them for when a transition is coming. \\r\\nnannan\n",
            "==================================================\n",
            "My students are the reason I became a teacher.  They are smart, caring, hard working little people that come to school excited each day.  They are the ones that make learning fun and our classroom a wonderful place to be.  From the second my students walk in the door, I focus on them as a whole person.  That means academically, socially and emotionally.  One focus that covers all three of these areas is responsibility.  We work a lot on being responsible for yourself and doing what is right even when nobody is looking.  I am so lucky to get to watch each of my students become respectful and responsible people before moving on to the next grade.  They are truly inspiring!\\r\\n\\r\\nFrom the moment my students walk in the door each morning they are learning to become responsible and independent people.  They work on problem solving daily as well as the responsibility it takes for them to get the most out of each day.  In order to help them be successful in this, our classroom must have everything in the most efficient place.  My students need mailboxes, a bookshelf, and privacy folder in order for them to make the most out of our daily space.  \\r\\n\\r\\nThe bookshelf will house our seasonal and topic specific literature.  This will help the students to grab books that pertain to what they are currently working on in class without having to dig through our entire classroom library in search of a specific topic.  It will also make it easier to find resources when doing research projects.  \\r\\n\\r\\nThe mailboxes will be each student's personal space where they get to keep the evidence of their learning.  The mailboxes will allow the kids to protect their work before taking it home to show their parents.  Without mailboxes, work often gets shoved into cubby spaces and ruined before heading home.\\r\\n\\r\\nThe privacy folders will help students to focus on their learning and not what their neighbor knows.  It teaches good test taking skills as well as independence and self-confidence in their own knowledge. \\r\\n\\r\\nThese materials will help my students to gain important skills in being responsible for their daily life in our classroom.nannan\n",
            "==================================================\n"
          ],
          "name": "stdout"
        }
      ]
    },
    {
      "cell_type": "code",
      "metadata": {
        "colab_type": "code",
        "id": "Yqj4vGVoCynh",
        "colab": {}
      },
      "source": [
        "# https://stackoverflow.com/a/47091490/4084039\n",
        "import re\n",
        "\n",
        "def decontracted(phrase):\n",
        "    # specific\n",
        "    phrase = re.sub(r\"won't\", \"will not\", phrase)\n",
        "    phrase = re.sub(r\"can\\'t\", \"can not\", phrase)\n",
        "\n",
        "    # general\n",
        "    phrase = re.sub(r\"n\\'t\", \" not\", phrase)\n",
        "    phrase = re.sub(r\"\\'re\", \" are\", phrase)\n",
        "    phrase = re.sub(r\"\\'s\", \" is\", phrase)\n",
        "    phrase = re.sub(r\"\\'d\", \" would\", phrase)\n",
        "    phrase = re.sub(r\"\\'ll\", \" will\", phrase)\n",
        "    phrase = re.sub(r\"\\'t\", \" not\", phrase)\n",
        "    phrase = re.sub(r\"\\'ve\", \" have\", phrase)\n",
        "    phrase = re.sub(r\"\\'m\", \" am\", phrase)\n",
        "    return phrase"
      ],
      "execution_count": 0,
      "outputs": []
    },
    {
      "cell_type": "code",
      "metadata": {
        "colab_type": "code",
        "id": "aDUbe9piCynj",
        "outputId": "cd082bbf-9ba2-4373-ea65-73c45627bb7d",
        "colab": {}
      },
      "source": [
        "sent = decontracted(project_data['essay'].values[20000])\n",
        "print(sent)\n",
        "print(\"=\"*50)"
      ],
      "execution_count": 0,
      "outputs": [
        {
          "output_type": "stream",
          "text": [
            "\\\"A person is a person, no matter how small.\\\" (Dr.Seuss) I teach the smallest students with the biggest enthusiasm for learning. My students learn in many different ways using all of our senses and multiple intelligences. I use a wide range of techniques to help all my students succeed. \\r\\nStudents in my class come from a variety of different backgrounds which makes for wonderful sharing of experiences and cultures, including Native Americans.\\r\\nOur school is a caring community of successful learners which can be seen through collaborative student project based learning in and out of the classroom. Kindergarteners in my class love to work with hands-on materials and have many different opportunities to practice a skill before it is mastered. Having the social skills to work cooperatively with friends is a crucial aspect of the kindergarten curriculum.Montana is the perfect place to learn about agriculture and nutrition. My students love to role play in our pretend kitchen in the early childhood classroom. I have had several kids ask me, \\\"Can we try cooking with REAL food?\\\" I will take their idea and create \\\"Common Core Cooking Lessons\\\" where we learn important math and writing concepts while cooking delicious healthy food for snack time. My students will have a grounded appreciation for the work that went into making the food and knowledge of where the ingredients came from as well as how it is healthy for their bodies. This project would expand our learning of nutrition and agricultural cooking recipes by having us peel our own apples to make homemade applesauce, make our own bread, and mix up healthy plants from our classroom garden in the spring. We will also create our own cookbooks to be printed and shared with families. \\r\\nStudents will gain math and literature skills as well as a life long enjoyment for healthy cooking.nannan\n",
            "==================================================\n"
          ],
          "name": "stdout"
        }
      ]
    },
    {
      "cell_type": "code",
      "metadata": {
        "colab_type": "code",
        "id": "vXSbHYJ4Cynp",
        "outputId": "1becc1e1-bb25-48aa-f44f-32c99df9e13a",
        "colab": {}
      },
      "source": [
        "# \\r \\n \\t remove from string python: http://texthandler.com/info/remove-line-breaks-python/\n",
        "sent = sent.replace('\\\\r', ' ')\n",
        "sent = sent.replace('\\\\\"', ' ')\n",
        "sent = sent.replace('\\\\n', ' ')\n",
        "print(sent)"
      ],
      "execution_count": 0,
      "outputs": [
        {
          "output_type": "stream",
          "text": [
            " A person is a person, no matter how small.  (Dr.Seuss) I teach the smallest students with the biggest enthusiasm for learning. My students learn in many different ways using all of our senses and multiple intelligences. I use a wide range of techniques to help all my students succeed.   Students in my class come from a variety of different backgrounds which makes for wonderful sharing of experiences and cultures, including Native Americans.  Our school is a caring community of successful learners which can be seen through collaborative student project based learning in and out of the classroom. Kindergarteners in my class love to work with hands-on materials and have many different opportunities to practice a skill before it is mastered. Having the social skills to work cooperatively with friends is a crucial aspect of the kindergarten curriculum.Montana is the perfect place to learn about agriculture and nutrition. My students love to role play in our pretend kitchen in the early childhood classroom. I have had several kids ask me,  Can we try cooking with REAL food?  I will take their idea and create  Common Core Cooking Lessons  where we learn important math and writing concepts while cooking delicious healthy food for snack time. My students will have a grounded appreciation for the work that went into making the food and knowledge of where the ingredients came from as well as how it is healthy for their bodies. This project would expand our learning of nutrition and agricultural cooking recipes by having us peel our own apples to make homemade applesauce, make our own bread, and mix up healthy plants from our classroom garden in the spring. We will also create our own cookbooks to be printed and shared with families.   Students will gain math and literature skills as well as a life long enjoyment for healthy cooking.nannan\n"
          ],
          "name": "stdout"
        }
      ]
    },
    {
      "cell_type": "code",
      "metadata": {
        "colab_type": "code",
        "id": "67Agrz_YCynt",
        "outputId": "ec6bf4e3-c419-4740-9989-fa53128abe20",
        "colab": {}
      },
      "source": [
        "#remove spacial character: https://stackoverflow.com/a/5843547/4084039\n",
        "sent = re.sub('[^A-Za-z0-9]+', ' ', sent)\n",
        "print(sent)"
      ],
      "execution_count": 0,
      "outputs": [
        {
          "output_type": "stream",
          "text": [
            " A person is a person no matter how small Dr Seuss I teach the smallest students with the biggest enthusiasm for learning My students learn in many different ways using all of our senses and multiple intelligences I use a wide range of techniques to help all my students succeed Students in my class come from a variety of different backgrounds which makes for wonderful sharing of experiences and cultures including Native Americans Our school is a caring community of successful learners which can be seen through collaborative student project based learning in and out of the classroom Kindergarteners in my class love to work with hands on materials and have many different opportunities to practice a skill before it is mastered Having the social skills to work cooperatively with friends is a crucial aspect of the kindergarten curriculum Montana is the perfect place to learn about agriculture and nutrition My students love to role play in our pretend kitchen in the early childhood classroom I have had several kids ask me Can we try cooking with REAL food I will take their idea and create Common Core Cooking Lessons where we learn important math and writing concepts while cooking delicious healthy food for snack time My students will have a grounded appreciation for the work that went into making the food and knowledge of where the ingredients came from as well as how it is healthy for their bodies This project would expand our learning of nutrition and agricultural cooking recipes by having us peel our own apples to make homemade applesauce make our own bread and mix up healthy plants from our classroom garden in the spring We will also create our own cookbooks to be printed and shared with families Students will gain math and literature skills as well as a life long enjoyment for healthy cooking nannan\n"
          ],
          "name": "stdout"
        }
      ]
    },
    {
      "cell_type": "code",
      "metadata": {
        "colab_type": "code",
        "id": "hhyPw-8wCyny",
        "colab": {}
      },
      "source": [
        "# https://gist.github.com/sebleier/554280\n",
        "# we are removing the words from the stop words list: 'no', 'nor', 'not'\n",
        "stopwords= ['i', 'me', 'my', 'myself', 'we', 'our', 'ours', 'ourselves', 'you', \"you're\", \"you've\",\\\n",
        "            \"you'll\", \"you'd\", 'your', 'yours', 'yourself', 'yourselves', 'he', 'him', 'his', 'himself', \\\n",
        "            'she', \"she's\", 'her', 'hers', 'herself', 'it', \"it's\", 'its', 'itself', 'they', 'them', 'their',\\\n",
        "            'theirs', 'themselves', 'what', 'which', 'who', 'whom', 'this', 'that', \"that'll\", 'these', 'those', \\\n",
        "            'am', 'is', 'are', 'was', 'were', 'be', 'been', 'being', 'have', 'has', 'had', 'having', 'do', 'does', \\\n",
        "            'did', 'doing', 'a', 'an', 'the', 'and', 'but', 'if', 'or', 'because', 'as', 'until', 'while', 'of', \\\n",
        "            'at', 'by', 'for', 'with', 'about', 'against', 'between', 'into', 'through', 'during', 'before', 'after',\\\n",
        "            'above', 'below', 'to', 'from', 'up', 'down', 'in', 'out', 'on', 'off', 'over', 'under', 'again', 'further',\\\n",
        "            'then', 'once', 'here', 'there', 'when', 'where', 'why', 'how', 'all', 'any', 'both', 'each', 'few', 'more',\\\n",
        "            'most', 'other', 'some', 'such', 'only', 'own', 'same', 'so', 'than', 'too', 'very', \\\n",
        "            's', 't', 'can', 'will', 'just', 'don', \"don't\", 'should', \"should've\", 'now', 'd', 'll', 'm', 'o', 're', \\\n",
        "            've', 'y', 'ain', 'aren', \"aren't\", 'couldn', \"couldn't\", 'didn', \"didn't\", 'doesn', \"doesn't\", 'hadn',\\\n",
        "            \"hadn't\", 'hasn', \"hasn't\", 'haven', \"haven't\", 'isn', \"isn't\", 'ma', 'mightn', \"mightn't\", 'mustn',\\\n",
        "            \"mustn't\", 'needn', \"needn't\", 'shan', \"shan't\", 'shouldn', \"shouldn't\", 'wasn', \"wasn't\", 'weren', \"weren't\", \\\n",
        "            'won', \"won't\", 'wouldn', \"wouldn't\"]"
      ],
      "execution_count": 0,
      "outputs": []
    },
    {
      "cell_type": "code",
      "metadata": {
        "colab_type": "code",
        "id": "d6RCdphRCyn0",
        "outputId": "a59d693e-fa5b-4821-e173-e308905b96d5",
        "colab": {}
      },
      "source": [
        "# Combining all the above stundents \n",
        "from tqdm import tqdm\n",
        "preprocessed_essays = []\n",
        "# tqdm is for printing the status bar\n",
        "for sentance in tqdm(project_data['essay'].values):\n",
        "    sent = decontracted(sentance)\n",
        "    sent = sent.replace('\\\\r', ' ')\n",
        "    sent = sent.replace('\\\\\"', ' ')\n",
        "    sent = sent.replace('\\\\n', ' ')\n",
        "    sent = re.sub('[^A-Za-z0-9]+', ' ', sent)\n",
        "    # https://gist.github.com/sebleier/554280\n",
        "    sent = ' '.join(e for e in sent.split() if e.lower() not in stopwords)\n",
        "    preprocessed_essays.append(sent.lower().strip())"
      ],
      "execution_count": 0,
      "outputs": [
        {
          "output_type": "stream",
          "text": [
            "100%|█████████████████████████████████████████████████████████████████████████████████████████████████████████████████████████| 109248/109248 [02:17<00:00, 794.55it/s]\n"
          ],
          "name": "stderr"
        }
      ]
    },
    {
      "cell_type": "code",
      "metadata": {
        "colab_type": "code",
        "id": "rPo9cLvNCyn3",
        "colab": {}
      },
      "source": [
        "# after preprocesing\n",
        "project_data['preprocessed_essays']=preprocessed_essays"
      ],
      "execution_count": 0,
      "outputs": []
    },
    {
      "cell_type": "code",
      "metadata": {
        "colab_type": "code",
        "id": "3XVzAxJt5tny",
        "outputId": "2e1ee49c-493e-41b8-e1c8-1dfc414cc0b7",
        "colab": {}
      },
      "source": [
        "project_data.head(2)"
      ],
      "execution_count": 0,
      "outputs": [
        {
          "output_type": "execute_result",
          "data": {
            "text/html": [
              "<div>\n",
              "<style scoped>\n",
              "    .dataframe tbody tr th:only-of-type {\n",
              "        vertical-align: middle;\n",
              "    }\n",
              "\n",
              "    .dataframe tbody tr th {\n",
              "        vertical-align: top;\n",
              "    }\n",
              "\n",
              "    .dataframe thead th {\n",
              "        text-align: right;\n",
              "    }\n",
              "</style>\n",
              "<table border=\"1\" class=\"dataframe\">\n",
              "  <thead>\n",
              "    <tr style=\"text-align: right;\">\n",
              "      <th></th>\n",
              "      <th>Unnamed: 0</th>\n",
              "      <th>id</th>\n",
              "      <th>teacher_id</th>\n",
              "      <th>school_state</th>\n",
              "      <th>Date</th>\n",
              "      <th>project_title</th>\n",
              "      <th>project_essay_1</th>\n",
              "      <th>project_essay_2</th>\n",
              "      <th>project_essay_3</th>\n",
              "      <th>project_essay_4</th>\n",
              "      <th>...</th>\n",
              "      <th>teacher_number_of_previously_posted_projects</th>\n",
              "      <th>project_is_approved</th>\n",
              "      <th>price</th>\n",
              "      <th>quantity</th>\n",
              "      <th>clean_categories</th>\n",
              "      <th>clean_subcategories</th>\n",
              "      <th>cleaned_Grades</th>\n",
              "      <th>teacher_prefix_clean</th>\n",
              "      <th>essay</th>\n",
              "      <th>preprocessed_essays</th>\n",
              "    </tr>\n",
              "  </thead>\n",
              "  <tbody>\n",
              "    <tr>\n",
              "      <th>55660</th>\n",
              "      <td>8393</td>\n",
              "      <td>p205479</td>\n",
              "      <td>2bf07ba08945e5d8b2a3f269b2b3cfe5</td>\n",
              "      <td>CA</td>\n",
              "      <td>2016-04-27 00:27:36</td>\n",
              "      <td>Engineering STEAM into the Primary Classroom</td>\n",
              "      <td>I have been fortunate enough to use the Fairy ...</td>\n",
              "      <td>My students come from a variety of backgrounds...</td>\n",
              "      <td>Each month I try to do several science or STEM...</td>\n",
              "      <td>It is challenging to develop high quality scie...</td>\n",
              "      <td>...</td>\n",
              "      <td>53</td>\n",
              "      <td>1</td>\n",
              "      <td>725.05</td>\n",
              "      <td>4</td>\n",
              "      <td>Math_Science</td>\n",
              "      <td>AppliedSciences Health_LifeScience</td>\n",
              "      <td>Grades_PreK_2</td>\n",
              "      <td>Mrs</td>\n",
              "      <td>I have been fortunate enough to use the Fairy ...</td>\n",
              "      <td>fortunate enough use fairy tale stem kits clas...</td>\n",
              "    </tr>\n",
              "    <tr>\n",
              "      <th>76127</th>\n",
              "      <td>37728</td>\n",
              "      <td>p043609</td>\n",
              "      <td>3f60494c61921b3b43ab61bdde2904df</td>\n",
              "      <td>UT</td>\n",
              "      <td>2016-04-27 00:31:25</td>\n",
              "      <td>Sensory Tools for Focus</td>\n",
              "      <td>Imagine being 8-9 years old. You're in your th...</td>\n",
              "      <td>Most of my students have autism, anxiety, anot...</td>\n",
              "      <td>It is tough to do more than one thing at a tim...</td>\n",
              "      <td>When my students are able to calm themselves d...</td>\n",
              "      <td>...</td>\n",
              "      <td>4</td>\n",
              "      <td>1</td>\n",
              "      <td>213.03</td>\n",
              "      <td>8</td>\n",
              "      <td>SpecialNeeds</td>\n",
              "      <td>SpecialNeeds</td>\n",
              "      <td>Grades_3_5</td>\n",
              "      <td>Ms</td>\n",
              "      <td>Imagine being 8-9 years old. You're in your th...</td>\n",
              "      <td>imagine 8 9 years old third grade classroom se...</td>\n",
              "    </tr>\n",
              "  </tbody>\n",
              "</table>\n",
              "<p>2 rows × 21 columns</p>\n",
              "</div>"
            ],
            "text/plain": [
              "       Unnamed: 0       id                        teacher_id school_state  \\\n",
              "55660        8393  p205479  2bf07ba08945e5d8b2a3f269b2b3cfe5           CA   \n",
              "76127       37728  p043609  3f60494c61921b3b43ab61bdde2904df           UT   \n",
              "\n",
              "                     Date                                 project_title  \\\n",
              "55660 2016-04-27 00:27:36  Engineering STEAM into the Primary Classroom   \n",
              "76127 2016-04-27 00:31:25                       Sensory Tools for Focus   \n",
              "\n",
              "                                         project_essay_1  \\\n",
              "55660  I have been fortunate enough to use the Fairy ...   \n",
              "76127  Imagine being 8-9 years old. You're in your th...   \n",
              "\n",
              "                                         project_essay_2  \\\n",
              "55660  My students come from a variety of backgrounds...   \n",
              "76127  Most of my students have autism, anxiety, anot...   \n",
              "\n",
              "                                         project_essay_3  \\\n",
              "55660  Each month I try to do several science or STEM...   \n",
              "76127  It is tough to do more than one thing at a tim...   \n",
              "\n",
              "                                         project_essay_4  ...  \\\n",
              "55660  It is challenging to develop high quality scie...  ...   \n",
              "76127  When my students are able to calm themselves d...  ...   \n",
              "\n",
              "      teacher_number_of_previously_posted_projects  project_is_approved  \\\n",
              "55660                                           53                    1   \n",
              "76127                                            4                    1   \n",
              "\n",
              "        price  quantity  clean_categories                 clean_subcategories  \\\n",
              "55660  725.05         4      Math_Science  AppliedSciences Health_LifeScience   \n",
              "76127  213.03         8      SpecialNeeds                        SpecialNeeds   \n",
              "\n",
              "      cleaned_Grades teacher_prefix_clean  \\\n",
              "55660  Grades_PreK_2                  Mrs   \n",
              "76127     Grades_3_5                   Ms   \n",
              "\n",
              "                                                   essay  \\\n",
              "55660  I have been fortunate enough to use the Fairy ...   \n",
              "76127  Imagine being 8-9 years old. You're in your th...   \n",
              "\n",
              "                                     preprocessed_essays  \n",
              "55660  fortunate enough use fairy tale stem kits clas...  \n",
              "76127  imagine 8 9 years old third grade classroom se...  \n",
              "\n",
              "[2 rows x 21 columns]"
            ]
          },
          "metadata": {
            "tags": []
          },
          "execution_count": 25
        }
      ]
    },
    {
      "cell_type": "code",
      "metadata": {
        "colab_type": "code",
        "id": "sewxLAde5tn2",
        "outputId": "e1db6c3a-2b7c-4e00-ddbf-2c9d94505658",
        "colab": {}
      },
      "source": [
        "project_data['preprocessed_essays'][:10]\n"
      ],
      "execution_count": 0,
      "outputs": [
        {
          "output_type": "execute_result",
          "data": {
            "text/plain": [
              "55660    fortunate enough use fairy tale stem kits clas...\n",
              "76127    imagine 8 9 years old third grade classroom se...\n",
              "51140    class 24 students comes diverse learners stude...\n",
              "473      recently read article giving students choice l...\n",
              "41558    students crave challenge eat obstacles breakfa...\n",
              "29891    end school year routines run course students n...\n",
              "81565    sitting still overrated makes sense opera medi...\n",
              "79026    not enough read book write essay connect deepl...\n",
              "23374    never society rapidly changed technology invad...\n",
              "86551    remember first time saw star wars wall e robot...\n",
              "Name: preprocessed_essays, dtype: object"
            ]
          },
          "metadata": {
            "tags": []
          },
          "execution_count": 26
        }
      ]
    },
    {
      "cell_type": "markdown",
      "metadata": {
        "colab_type": "text",
        "id": "QeUw6WMKCyn7"
      },
      "source": [
        "<h2><font color='black'> 1.7 Text Preprocessing of `project_title`</font></h2>"
      ]
    },
    {
      "cell_type": "code",
      "metadata": {
        "colab_type": "code",
        "id": "Ql9ttfW3Cyn7",
        "colab": {}
      },
      "source": [
        "# similarly you can preprocess the titles also"
      ],
      "execution_count": 0,
      "outputs": []
    },
    {
      "cell_type": "code",
      "metadata": {
        "colab_type": "code",
        "id": "htsSRoRY5tn_",
        "outputId": "797aee92-233e-4bc3-c50b-f01fc2e5c154",
        "colab": {}
      },
      "source": [
        "project_data['project_title'][:10]"
      ],
      "execution_count": 0,
      "outputs": [
        {
          "output_type": "execute_result",
          "data": {
            "text/plain": [
              "55660         Engineering STEAM into the Primary Classroom\n",
              "76127                              Sensory Tools for Focus\n",
              "51140       Mobile Learning with a Mobile Listening Center\n",
              "473                 Flexible Seating for Flexible Learning\n",
              "41558               Going Deep: The Art of Inner Thinking!\n",
              "29891                   Breakout Box to Ignite Engagement!\n",
              "81565    Flexible Seating: An Environment to Help Kids ...\n",
              "79026                21st Century Learning with Multimedia\n",
              "23374                                    iPad for Learners\n",
              "86551                      Dash and Dot Robotic Duo Needed\n",
              "Name: project_title, dtype: object"
            ]
          },
          "metadata": {
            "tags": []
          },
          "execution_count": 28
        }
      ]
    },
    {
      "cell_type": "code",
      "metadata": {
        "colab_type": "code",
        "id": "Ix8wC8fm5toD",
        "colab": {}
      },
      "source": [
        "import re\n",
        "\n",
        "def decontracted(phrase):\n",
        "    # specific\n",
        "    phrase = re.sub(r\"won't\", \"will not\", phrase)\n",
        "    phrase = re.sub(r\"can\\'t\", \"can not\", phrase)\n",
        "\n",
        "    # general\n",
        "    phrase = re.sub(r\"n\\'t\", \" not\", phrase)\n",
        "    phrase = re.sub(r\"\\'re\", \" are\", phrase)\n",
        "    phrase = re.sub(r\"\\'s\", \" is\", phrase)\n",
        "    phrase = re.sub(r\"\\'d\", \" would\", phrase)\n",
        "    phrase = re.sub(r\"\\'ll\", \" will\", phrase)\n",
        "    phrase = re.sub(r\"\\'t\", \" not\", phrase)\n",
        "    phrase = re.sub(r\"\\'ve\", \" have\", phrase)\n",
        "    phrase = re.sub(r\"\\'m\", \" am\", phrase)\n",
        "    return phrase"
      ],
      "execution_count": 0,
      "outputs": []
    },
    {
      "cell_type": "code",
      "metadata": {
        "colab_type": "code",
        "id": "15Wdn_UU5toH",
        "outputId": "06ea6332-ee7c-4459-e308-b50f1fe27c46",
        "colab": {}
      },
      "source": [
        "sent_project_title = decontracted(project_data['project_title'].values[1000])\n",
        "print(sent_project_title)\n",
        "print(\"=\"*50)"
      ],
      "execution_count": 0,
      "outputs": [
        {
          "output_type": "stream",
          "text": [
            "Empowering Students Through Art:Learning About Then and Now\n",
            "==================================================\n"
          ],
          "name": "stdout"
        }
      ]
    },
    {
      "cell_type": "code",
      "metadata": {
        "colab_type": "code",
        "id": "GpthRysU5toL",
        "outputId": "d1181b28-f91e-429c-bb15-50f6f544c9f3",
        "colab": {}
      },
      "source": [
        "# \\r \\n \\t remove from string python: http://texthandler.com/info/remove-line-breaks-python/\n",
        "sent_project_title = sent_project_title.replace('\\\\r', ' ')\n",
        "sent_project_title = sent_project_title.replace('\\\\\"', ' ')\n",
        "sent_project_title = sent_project_title.replace('\\\\n', ' ')\n",
        "print(sent_project_title)"
      ],
      "execution_count": 0,
      "outputs": [
        {
          "output_type": "stream",
          "text": [
            "Empowering Students Through Art:Learning About Then and Now\n"
          ],
          "name": "stdout"
        }
      ]
    },
    {
      "cell_type": "code",
      "metadata": {
        "colab_type": "code",
        "id": "8d23z6fO5toP",
        "outputId": "476a1918-ff05-4785-d2fd-b09fcf5eda3e",
        "colab": {}
      },
      "source": [
        "#remove spacial character: https://stackoverflow.com/a/5843547/4084039\n",
        "sent_project_title = re.sub('[^A-Za-z0-9]+', ' ', sent)\n",
        "print(sent_project_title)"
      ],
      "execution_count": 0,
      "outputs": [
        {
          "output_type": "stream",
          "text": [
            "first graders eager learn world around come school day full enthusiasm genuinely love learning diverse class includes students variety cultural economic backgrounds Many come homes parents not afford simply not know importance books important provide environment rich literature students learn love reading want students lifelong learners reading best way used magazines past kids absolutely LOVE topics high interest children always correspond real world issues important kids learn subscription also includes online resources videos printable worksheets skill based games materials expose students rigorous interesting nonfiction text spark curiosity world around topics allow teach nonfiction text standards using interesting materials always lead engaging discussions inspire students find additional information various topics nannan\n"
          ],
          "name": "stdout"
        }
      ]
    },
    {
      "cell_type": "code",
      "metadata": {
        "colab_type": "code",
        "id": "gbFgRa9M5toT",
        "colab": {}
      },
      "source": [
        "stopwords= ['i', 'me', 'my', 'myself', 'we', 'our', 'ours', 'ourselves', 'you', \"you're\", \"you've\",\\\n",
        "            \"you'll\", \"you'd\", 'your', 'yours', 'yourself', 'yourselves', 'he', 'him', 'his', 'himself', \\\n",
        "            'she', \"she's\", 'her', 'hers', 'herself', 'it', \"it's\", 'its', 'itself', 'they', 'them', 'their',\\\n",
        "            'theirs', 'themselves', 'what', 'which', 'who', 'whom', 'this', 'that', \"that'll\", 'these', 'those', \\\n",
        "            'am', 'is', 'are', 'was', 'were', 'be', 'been', 'being', 'have', 'has', 'had', 'having', 'do', 'does', \\\n",
        "            'did', 'doing', 'a', 'an', 'the', 'and', 'but', 'if', 'or', 'because', 'as', 'until', 'while', 'of', \\\n",
        "            'at', 'by', 'for', 'with', 'about', 'against', 'between', 'into', 'through', 'during', 'before', 'after',\\\n",
        "            'above', 'below', 'to', 'from', 'up', 'down', 'in', 'out', 'on', 'off', 'over', 'under', 'again', 'further',\\\n",
        "            'then', 'once', 'here', 'there', 'when', 'where', 'why', 'how', 'all', 'any', 'both', 'each', 'few', 'more',\\\n",
        "            'most', 'other', 'some', 'such', 'only', 'own', 'same', 'so', 'than', 'too', 'very', \\\n",
        "            's', 't', 'can', 'will', 'just', 'don', \"don't\", 'should', \"should've\", 'now', 'd', 'll', 'm', 'o', 're', \\\n",
        "            've', 'y', 'ain', 'aren', \"aren't\", 'couldn', \"couldn't\", 'didn', \"didn't\", 'doesn', \"doesn't\", 'hadn',\\\n",
        "            \"hadn't\", 'hasn', \"hasn't\", 'haven', \"haven't\", 'isn', \"isn't\", 'ma', 'mightn', \"mightn't\", 'mustn',\\\n",
        "            \"mustn't\", 'needn', \"needn't\", 'shan', \"shan't\", 'shouldn', \"shouldn't\", 'wasn', \"wasn't\", 'weren', \"weren't\", \\\n",
        "            'won', \"won't\", 'wouldn', \"wouldn't\"]"
      ],
      "execution_count": 0,
      "outputs": []
    },
    {
      "cell_type": "code",
      "metadata": {
        "colab_type": "code",
        "id": "tEsCWHhH5toY",
        "outputId": "7b44ee76-efdd-4d8b-8c9c-aa3f6381c339",
        "colab": {}
      },
      "source": [
        "from tqdm import tqdm\n",
        "preprocessed_project_title = []\n",
        "# tqdm is for printing the status bar\n",
        "for sentance in tqdm(project_data['project_title'].values):\n",
        "    sent_project_title = decontracted(sentance)\n",
        "    sent_project_title = sent_project_title.replace('\\\\r', ' ')\n",
        "    sent_project_title = sent_project_title.replace('\\\\\"', ' ')\n",
        "    sent_project_title = sent_project_title.replace('\\\\n', ' ')\n",
        "    sent_project_title = re.sub('[^A-Za-z0-9]+', ' ', sent_project_title)\n",
        "    # https://gist.github.com/sebleier/554280\n",
        "    sent_project_title = ' '.join(e for e in sent_project_title.split() if e not in stopwords)\n",
        "    preprocessed_project_title.append(sent_project_title.lower().strip())"
      ],
      "execution_count": 0,
      "outputs": [
        {
          "output_type": "stream",
          "text": [
            "100%|███████████████████████████████████████████████████████████████████████████████████████████████████████████████████████| 109248/109248 [00:07<00:00, 15417.85it/s]\n"
          ],
          "name": "stderr"
        }
      ]
    },
    {
      "cell_type": "code",
      "metadata": {
        "colab_type": "code",
        "id": "g-ZbR6k05tod",
        "outputId": "d02f86aa-d65a-4287-f907-6b5188a7ca21",
        "scrolled": true,
        "colab": {}
      },
      "source": [
        "preprocessed_project_title[1000]"
      ],
      "execution_count": 0,
      "outputs": [
        {
          "output_type": "execute_result",
          "data": {
            "text/plain": [
              "'empowering students through art learning about then now'"
            ]
          },
          "metadata": {
            "tags": []
          },
          "execution_count": 35
        }
      ]
    },
    {
      "cell_type": "code",
      "metadata": {
        "colab_type": "code",
        "id": "EkjFc-Jp5toh",
        "colab": {}
      },
      "source": [
        "project_data['preprocessed_project_title']=preprocessed_project_title"
      ],
      "execution_count": 0,
      "outputs": []
    },
    {
      "cell_type": "code",
      "metadata": {
        "colab_type": "code",
        "id": "MRMuOkpT5tol",
        "outputId": "4a7c305c-2d46-432b-b5e1-1742bc4304c7",
        "colab": {}
      },
      "source": [
        "project_data['preprocessed_project_title'][:10]"
      ],
      "execution_count": 0,
      "outputs": [
        {
          "output_type": "execute_result",
          "data": {
            "text/plain": [
              "55660                engineering steam primary classroom\n",
              "76127                                sensory tools focus\n",
              "51140            mobile learning mobile listening center\n",
              "473                   flexible seating flexible learning\n",
              "41558                  going deep the art inner thinking\n",
              "29891                     breakout box ignite engagement\n",
              "81565    flexible seating an environment help kids learn\n",
              "79026                   21st century learning multimedia\n",
              "23374                                      ipad learners\n",
              "86551                        dash dot robotic duo needed\n",
              "Name: preprocessed_project_title, dtype: object"
            ]
          },
          "metadata": {
            "tags": []
          },
          "execution_count": 37
        }
      ]
    },
    {
      "cell_type": "markdown",
      "metadata": {
        "colab_type": "text",
        "id": "LK_V-o4f5tor"
      },
      "source": [
        "<h2><font color='black'> 1.8 Sentiment Score of Essays </font></h2>"
      ]
    },
    {
      "cell_type": "code",
      "metadata": {
        "colab_type": "code",
        "id": "2mTBpQaO5tos",
        "outputId": "188eb81d-8d75-472a-f5f9-5a7da1235acf",
        "scrolled": true,
        "colab": {}
      },
      "source": [
        "#https://www.youtube.com/watch?v=qTyj2R-wcks\n",
        "#https://www.kaggle.com/rohit0812/logistic-regression-on-donor-s-choose/notebook\n",
        "#https://medium.com/analytics-vidhya/simplifying-social-media-sentiment-analysis-using-vader-in-python-f9e6ec6fc52f\n",
        "#https://github.com/varma1993/ML-Projects/blob/master/DonorsChoose/Logistic%20Regression/5_DonorsChoose_LR_final.ipynb\n",
        "#http://t-redactyl.io/blog/2017/04/using-vader-to-handle-sentiment-analysis-with-social-media-text.html\n",
        "\n",
        "import nltk\n",
        "from nltk.sentiment.vader import SentimentIntensityAnalyzer\n",
        "\n",
        "nltk.download('vader_lexicon')\n",
        "\n",
        "project_data['sentiment_score'] = 0\n",
        "project_data['sentiment_score'] = project_data['sentiment_score'].astype(float)\n",
        "\n",
        "sentiment_analyzer = SentimentIntensityAnalyzer()\n",
        "\n",
        "for index in tqdm(project_data.index):\n",
        "    project_data.at[index, 'sentiment_score'] = sentiment_analyzer.polarity_scores(project_data.at[index,'preprocessed_essays'])['compound']\n",
        "\n",
        "print(project_data.head(2))"
      ],
      "execution_count": 0,
      "outputs": [
        {
          "output_type": "stream",
          "text": [
            "[nltk_data] Downloading package vader_lexicon to\n",
            "[nltk_data]     C:\\Users\\admin\\AppData\\Roaming\\nltk_data...\n",
            "[nltk_data]   Package vader_lexicon is already up-to-date!\n",
            "100%|█████████████████████████████████████████████████████████████████████████████████████████████████████████████████████████| 109248/109248 [06:51<00:00, 265.55it/s]\n"
          ],
          "name": "stderr"
        },
        {
          "output_type": "stream",
          "text": [
            "       Unnamed: 0       id                        teacher_id school_state  \\\n",
            "55660        8393  p205479  2bf07ba08945e5d8b2a3f269b2b3cfe5           CA   \n",
            "76127       37728  p043609  3f60494c61921b3b43ab61bdde2904df           UT   \n",
            "\n",
            "                     Date                                 project_title  \\\n",
            "55660 2016-04-27 00:27:36  Engineering STEAM into the Primary Classroom   \n",
            "76127 2016-04-27 00:31:25                       Sensory Tools for Focus   \n",
            "\n",
            "                                         project_essay_1  \\\n",
            "55660  I have been fortunate enough to use the Fairy ...   \n",
            "76127  Imagine being 8-9 years old. You're in your th...   \n",
            "\n",
            "                                         project_essay_2  \\\n",
            "55660  My students come from a variety of backgrounds...   \n",
            "76127  Most of my students have autism, anxiety, anot...   \n",
            "\n",
            "                                         project_essay_3  \\\n",
            "55660  Each month I try to do several science or STEM...   \n",
            "76127  It is tough to do more than one thing at a tim...   \n",
            "\n",
            "                                         project_essay_4  ...   price  \\\n",
            "55660  It is challenging to develop high quality scie...  ...  725.05   \n",
            "76127  When my students are able to calm themselves d...  ...  213.03   \n",
            "\n",
            "       quantity  clean_categories                 clean_subcategories  \\\n",
            "55660         4      Math_Science  AppliedSciences Health_LifeScience   \n",
            "76127         8      SpecialNeeds                        SpecialNeeds   \n",
            "\n",
            "       cleaned_Grades teacher_prefix_clean  \\\n",
            "55660   Grades_PreK_2                  Mrs   \n",
            "76127      Grades_3_5                   Ms   \n",
            "\n",
            "                                                   essay  \\\n",
            "55660  I have been fortunate enough to use the Fairy ...   \n",
            "76127  Imagine being 8-9 years old. You're in your th...   \n",
            "\n",
            "                                     preprocessed_essays  \\\n",
            "55660  fortunate enough use fairy tale stem kits clas...   \n",
            "76127  imagine 8 9 years old third grade classroom se...   \n",
            "\n",
            "                preprocessed_project_title sentiment_score  \n",
            "55660  engineering steam primary classroom          0.9867  \n",
            "76127                  sensory tools focus          0.9899  \n",
            "\n",
            "[2 rows x 23 columns]\n"
          ],
          "name": "stdout"
        }
      ]
    },
    {
      "cell_type": "markdown",
      "metadata": {
        "colab_type": "text",
        "id": "2q0cKGBH5tox"
      },
      "source": [
        "<h2><font color='black'> 1.9 Number of Words in Essays </font></h2>"
      ]
    },
    {
      "cell_type": "code",
      "metadata": {
        "colab_type": "code",
        "id": "CsHdYKVa5toy",
        "colab": {}
      },
      "source": [
        "#https://stackoverflow.com/questions/54397096/how-to-do-word-count-on-pandas-dataframe\n",
        "\n",
        "project_data['number_words_essays']=project_data['preprocessed_essays'].str.count(' ')+1"
      ],
      "execution_count": 0,
      "outputs": []
    },
    {
      "cell_type": "markdown",
      "metadata": {
        "colab_type": "text",
        "id": "jiTXL1p-5to1"
      },
      "source": [
        "<h2><font color='black'> 1.10 Number of Words in Project Title </font></h2>"
      ]
    },
    {
      "cell_type": "code",
      "metadata": {
        "colab_type": "code",
        "id": "3hfwl1dN5to2",
        "colab": {}
      },
      "source": [
        "#https://stackoverflow.com/questions/54397096/how-to-do-word-count-on-pandas-dataframe\n",
        "\n",
        "project_data['number_words_project_title'] = project_data['preprocessed_project_title'].str.count(' ')+1"
      ],
      "execution_count": 0,
      "outputs": []
    },
    {
      "cell_type": "markdown",
      "metadata": {
        "colab_type": "text",
        "id": "E2ESshL45to8"
      },
      "source": [
        "# Assignment 11: TruncatedSVD"
      ]
    },
    {
      "cell_type": "markdown",
      "metadata": {
        "colab_type": "text",
        "id": "Vi49J-ia5to9"
      },
      "source": [
        "- <font color='red'>step 1</font> Select the top 2k words from essay text and project_title (concatinate essay text with project title and then find the top 2k words) based on their <a href='https://scikit-learn.org/stable/modules/generated/sklearn.feature_extraction.text.TfidfVectorizer.html'>`idf_`</a> values \n",
        "- <font color='red'>step 2</font> Compute the co-occurance matrix with these 2k words, with window size=5 (<a href='https://www.analyticsvidhya.com/blog/2017/06/word-embeddings-count-word2veec/'>ref</a>)\n",
        "    <img src='cooc.JPG' width=300px>\n",
        "- <font color='red'>step 3</font> Use <a href='http://scikit-learn.org/stable/modules/generated/sklearn.decomposition.TruncatedSVD.html'>TruncatedSVD</a> on calculated co-occurance matrix and reduce its dimensions, choose the number of components (`n_components`) using <a href='https://www.appliedaicourse.com/course/applied-ai-course-online/lessons/pca-code-example-using-non-visualization/'>elbow method</a>\n",
        " >- The shape of the matrix after TruncatedSVD will be 2000\\*n, i.e. each row represents a vector form of the corresponding word. <br>\n",
        " >- Vectorize the essay text and project titles using these word vectors. (while vectorizing, do ignore all the words which are not in top 2k words)\n",
        "- <font color='red'>step 4</font> Concatenate these truncatedSVD matrix, with the matrix with features\n",
        "<ul>\n",
        "    <li><strong>school_state</strong> : categorical data</li>\n",
        "    <li><strong>clean_categories</strong> : categorical data</li>\n",
        "    <li><strong>clean_subcategories</strong> : categorical data</li>\n",
        "    <li><strong>project_grade_category</strong> :categorical data</li>\n",
        "    <li><strong>teacher_prefix</strong> : categorical data</li>\n",
        "    <li><strong>quantity</strong> : numerical data</li>\n",
        "    <li><strong>teacher_number_of_previously_posted_projects</strong> : numerical data</li>\n",
        "    <li><strong>price</strong> : numerical data</li>\n",
        "    <li><strong>sentiment score's of each of the essay</strong> : numerical data</li>\n",
        "    <li><strong>number of words in the title</strong> : numerical data</li>\n",
        "    <li><strong>number of words in the combine essays</strong> : numerical data</li>\n",
        "    <li><strong>word vectors calculated in</strong> <font color='red'>step 3</font> : numerical data</li>\n",
        "</ul>\n",
        "- <font color='red'>step 5</font>: Apply GBDT on matrix that was formed in <font color='red'>step 4</font> of this assignment, <font color='blue'><strong>DO REFER THIS BLOG: <a href='https://www.kdnuggets.com/2017/03/simple-xgboost-tutorial-iris-dataset.html'>XGBOOST DMATRIX<strong></a></font>\n",
        "<li><font color='red'>step 6</font>:Hyper parameter tuning (Consider any two hyper parameters)<ul><li>Find the best hyper parameter which will give the maximum <a href='https://www.appliedaicourse.com/course/applied-ai-course-online/lessons/receiver-operating-characteristic-curve-roc-curve-and-auc-1/'>AUC</a> value</li>\n",
        "    <li>Find the best hyper paramter using k-fold cross validation or simple cross validation data</li>\n",
        "    <li>Use gridsearch cv or randomsearch cv or you can also write your own for loops to do this task of hyperparameter tuning</li> \n",
        "        </ul>\n",
        "    </li>\n",
        "\n"
      ]
    },
    {
      "cell_type": "markdown",
      "metadata": {
        "colab_type": "text",
        "id": "44WbKJds5to-"
      },
      "source": [
        "<h1>2.Logistic Regression</h1>"
      ]
    },
    {
      "cell_type": "markdown",
      "metadata": {
        "colab_type": "text",
        "id": "A4SoegDI5tpA"
      },
      "source": [
        "## 2.1 Dividing into X(data) and y (label)"
      ]
    },
    {
      "cell_type": "code",
      "metadata": {
        "colab_type": "code",
        "id": "qhV-Nmuf5tpC",
        "outputId": "1c130d51-9bea-44e3-9a7b-a02a3e3c8580",
        "colab": {
          "base_uri": "https://localhost:8080/",
          "height": 51
        }
      },
      "source": [
        "#https://colab.research.google.com/notebooks/io.ipynb#scrollTo=XDg9OBaYqRMd\n",
        "#https://medium.com/@master_yi/importing-datasets-in-google-colab-c816fc654f97\n",
        "# Code to read csv file into Colaboratory:\n",
        "#!pip install -U -q PyDrive\n",
        "from pydrive.auth import GoogleAuth\n",
        "from pydrive.drive import GoogleDrive\n",
        "from google.colab import auth\n",
        "from oauth2client.client import GoogleCredentials\n",
        "# Authenticate and create the PyDrive client.\n",
        "auth.authenticate_user()\n",
        "gauth = GoogleAuth()\n",
        "gauth.credentials = GoogleCredentials.get_application_default()\n",
        "drive = GoogleDrive(gauth)\n",
        "\n",
        "link = 'https://drive.google.com/open?id=1o7LChf9VR09xtAFE00af7QJraZiY0RfL'\n",
        "\n",
        "fluff, id = link.split('=')\n",
        "print (id) # Verify that you have everything after '='\n",
        "\n",
        "\n",
        "downloaded = drive.CreateFile({'id':id}) \n",
        "downloaded.GetContentFile('preprocessed_data.csv')  \n",
        "data = pd.read_csv('preprocessed_data.csv',nrows=30000)\n",
        "# Dataset is now stored in a Pandas Dataframe\n",
        "data.shape"
      ],
      "execution_count": 0,
      "outputs": [
        {
          "output_type": "stream",
          "text": [
            "1o7LChf9VR09xtAFE00af7QJraZiY0RfL\n"
          ],
          "name": "stdout"
        },
        {
          "output_type": "execute_result",
          "data": {
            "text/plain": [
              "(30000, 26)"
            ]
          },
          "metadata": {
            "tags": []
          },
          "execution_count": 3
        }
      ]
    },
    {
      "cell_type": "code",
      "metadata": {
        "colab_type": "code",
        "id": "voiLiRD55tpI",
        "colab": {}
      },
      "source": [
        "#data= pd.read_csv('preprocessed_data.csv', nrows=1000) #70K data points "
      ],
      "execution_count": 0,
      "outputs": []
    },
    {
      "cell_type": "markdown",
      "metadata": {
        "colab_type": "text",
        "id": "Z22pGDL05tpM"
      },
      "source": [
        "##### 30K data points are considered "
      ]
    },
    {
      "cell_type": "code",
      "metadata": {
        "colab_type": "code",
        "id": "H9ykbMLY5tpN",
        "outputId": "1fada1ce-43aa-4da7-d7d9-e4c993585885",
        "colab": {
          "base_uri": "https://localhost:8080/",
          "height": 219
        }
      },
      "source": [
        "y = data['project_is_approved'].values\n",
        "X = data.drop(['project_is_approved'], axis=1)\n",
        "X.head(1)"
      ],
      "execution_count": 0,
      "outputs": [
        {
          "output_type": "execute_result",
          "data": {
            "text/html": [
              "<div>\n",
              "<style scoped>\n",
              "    .dataframe tbody tr th:only-of-type {\n",
              "        vertical-align: middle;\n",
              "    }\n",
              "\n",
              "    .dataframe tbody tr th {\n",
              "        vertical-align: top;\n",
              "    }\n",
              "\n",
              "    .dataframe thead th {\n",
              "        text-align: right;\n",
              "    }\n",
              "</style>\n",
              "<table border=\"1\" class=\"dataframe\">\n",
              "  <thead>\n",
              "    <tr style=\"text-align: right;\">\n",
              "      <th></th>\n",
              "      <th>Unnamed: 0</th>\n",
              "      <th>Unnamed: 0.1</th>\n",
              "      <th>id</th>\n",
              "      <th>teacher_id</th>\n",
              "      <th>school_state</th>\n",
              "      <th>Date</th>\n",
              "      <th>project_title</th>\n",
              "      <th>project_essay_1</th>\n",
              "      <th>project_essay_2</th>\n",
              "      <th>project_essay_3</th>\n",
              "      <th>project_essay_4</th>\n",
              "      <th>project_resource_summary</th>\n",
              "      <th>teacher_number_of_previously_posted_projects</th>\n",
              "      <th>price</th>\n",
              "      <th>quantity</th>\n",
              "      <th>clean_categories</th>\n",
              "      <th>clean_subcategories</th>\n",
              "      <th>cleaned_Grades</th>\n",
              "      <th>teacher_prefix_clean</th>\n",
              "      <th>essay</th>\n",
              "      <th>preprocessed_essays</th>\n",
              "      <th>preprocessed_project_title</th>\n",
              "      <th>sentiment_score</th>\n",
              "      <th>number_words_project_title</th>\n",
              "      <th>number_words_essays</th>\n",
              "    </tr>\n",
              "  </thead>\n",
              "  <tbody>\n",
              "    <tr>\n",
              "      <th>0</th>\n",
              "      <td>55660</td>\n",
              "      <td>8393</td>\n",
              "      <td>p205479</td>\n",
              "      <td>2bf07ba08945e5d8b2a3f269b2b3cfe5</td>\n",
              "      <td>CA</td>\n",
              "      <td>2016-04-27 00:27:36</td>\n",
              "      <td>Engineering STEAM into the Primary Classroom</td>\n",
              "      <td>I have been fortunate enough to use the Fairy ...</td>\n",
              "      <td>My students come from a variety of backgrounds...</td>\n",
              "      <td>Each month I try to do several science or STEM...</td>\n",
              "      <td>It is challenging to develop high quality scie...</td>\n",
              "      <td>My students need STEM kits to learn critical s...</td>\n",
              "      <td>53</td>\n",
              "      <td>725.05</td>\n",
              "      <td>4</td>\n",
              "      <td>Math_Science</td>\n",
              "      <td>AppliedSciences Health_LifeScience</td>\n",
              "      <td>Grades_PreK_2</td>\n",
              "      <td>Mrs</td>\n",
              "      <td>I have been fortunate enough to use the Fairy ...</td>\n",
              "      <td>fortunate enough use fairy tale stem kits clas...</td>\n",
              "      <td>engineering steam primary classroom</td>\n",
              "      <td>0.9867</td>\n",
              "      <td>4</td>\n",
              "      <td>156</td>\n",
              "    </tr>\n",
              "  </tbody>\n",
              "</table>\n",
              "</div>"
            ],
            "text/plain": [
              "   Unnamed: 0  Unnamed: 0.1  ... number_words_project_title number_words_essays\n",
              "0       55660          8393  ...                          4                 156\n",
              "\n",
              "[1 rows x 25 columns]"
            ]
          },
          "metadata": {
            "tags": []
          },
          "execution_count": 5
        }
      ]
    },
    {
      "cell_type": "markdown",
      "metadata": {
        "colab_type": "text",
        "id": "Oibnocgs5tpS"
      },
      "source": [
        " <h2> 2.2 Splitting data into Train and cross validation(or test): Stratified Sampling</h2>"
      ]
    },
    {
      "cell_type": "code",
      "metadata": {
        "colab_type": "code",
        "id": "Gu_G66u25tpT",
        "colab": {}
      },
      "source": [
        "# train test split\n",
        "from sklearn.model_selection import train_test_split\n",
        "X_train, X_test, y_train, y_test = train_test_split(X, y, test_size=0.33, stratify=y)"
      ],
      "execution_count": 0,
      "outputs": []
    },
    {
      "cell_type": "markdown",
      "metadata": {
        "colab_type": "text",
        "id": "gXPdc-s45tpZ"
      },
      "source": [
        "<h2>2.3 Make Data Model Ready: encoding numerical, categorical ,Text features</h2>"
      ]
    },
    {
      "cell_type": "markdown",
      "metadata": {
        "colab_type": "text",
        "id": "jIt-oByB5tpZ"
      },
      "source": [
        "### Concatinate essay text with project title and then find the top 2k words"
      ]
    },
    {
      "cell_type": "code",
      "metadata": {
        "colab_type": "code",
        "id": "jyIMpx4V5tpa",
        "colab": {}
      },
      "source": [
        "# merge two column text dataframe: \n",
        "X_train[\"essay_title\"] = X_train[\"preprocessed_essays\"].map(str) +\\\n",
        "                        X_train[\"preprocessed_project_title\"].map(str)"
      ],
      "execution_count": 0,
      "outputs": []
    },
    {
      "cell_type": "markdown",
      "metadata": {
        "colab_type": "text",
        "id": "0f46OQQM0qpg"
      },
      "source": [
        "### idf Value "
      ]
    },
    {
      "cell_type": "code",
      "metadata": {
        "colab_type": "code",
        "id": "fxDs9IhP5tpg",
        "colab": {}
      },
      "source": [
        "vectorizer = TfidfVectorizer(use_idf=True,max_features=2000)\n",
        "\n",
        "vectorizer.fit_transform(X_train[\"essay_title\"])\n",
        "\n",
        "idf_essays_title = vectorizer.idf_ \n",
        "idf_essays_title=idf_essays_title\n",
        "feature_names_2000=vectorizer.get_feature_names()"
      ],
      "execution_count": 0,
      "outputs": []
    },
    {
      "cell_type": "code",
      "metadata": {
        "colab_type": "code",
        "id": "parLM_Z45tpm",
        "outputId": "a6eb046a-c029-43bf-8e6f-3676dbb41965",
        "colab": {
          "base_uri": "https://localhost:8080/",
          "height": 34
        }
      },
      "source": [
        "print(idf_essays_title)"
      ],
      "execution_count": 0,
      "outputs": [
        {
          "output_type": "stream",
          "text": [
            "[4.55068258 3.83695148 5.67208288 ... 5.28812398 3.23763001 5.28090373]\n"
          ],
          "name": "stdout"
        }
      ]
    },
    {
      "cell_type": "code",
      "metadata": {
        "colab_type": "code",
        "id": "ge2IMfXI5tpx",
        "outputId": "cd42c7d9-0432-4103-beaa-312137ec59a1",
        "colab": {
          "base_uri": "https://localhost:8080/",
          "height": 34
        }
      },
      "source": [
        "idf_feature_names=[]\n",
        "for i in tqdm(range(len(idf_essays_title))):\n",
        "    idf_feature_names.append([idf_essays_title[i],feature_names_2000[i]]) #List of lists for Featured words & IDF values"
      ],
      "execution_count": 0,
      "outputs": [
        {
          "output_type": "stream",
          "text": [
            "100%|██████████| 2000/2000 [00:00<00:00, 726538.02it/s]\n"
          ],
          "name": "stderr"
        }
      ]
    },
    {
      "cell_type": "code",
      "metadata": {
        "colab_type": "code",
        "id": "5AVa2rn95tp3",
        "scrolled": false,
        "colab": {}
      },
      "source": [
        "idf_feature_names.sort(reverse=True)"
      ],
      "execution_count": 0,
      "outputs": []
    },
    {
      "cell_type": "code",
      "metadata": {
        "colab_type": "code",
        "id": "F8eLA1nh5tqB",
        "outputId": "51577a1b-b7d0-4e11-e52d-781d83076f18",
        "scrolled": true,
        "colab": {
          "base_uri": "https://localhost:8080/",
          "height": 122
        }
      },
      "source": [
        "print(idf_feature_names[:10])\n",
        "print(\"=\"*100)\n",
        "print(idf_feature_names[-10:])\n",
        "print(\"=\"*100)\n",
        "print(\"No of Words in idf_feature_names:\",len(idf_feature_names))"
      ],
      "execution_count": 0,
      "outputs": [
        {
          "output_type": "stream",
          "text": [
            "[[6.489684236256799, 'physics'], [6.442616725398812, 'calculators'], [6.43118802957519, 'dash'], [6.3867362670043555, 'dot'], [6.34417665258556, 'chemistry'], [6.293404327212136, 'kitchen'], [6.254564493895873, 'makerspace'], [6.226393616929177, 'legos'], [6.226393616929177, 'fractions'], [6.190025972758302, 'lights']]\n",
            "====================================================================================================\n",
            "[[1.7160429903785266, 'work'], [1.6673643297373273, 'need'], [1.5864642224668055, 'many'], [1.5038520026171232, 'help'], [1.4355894650020762, 'learn'], [1.4144351226531455, 'not'], [1.3493602646831948, 'classroom'], [1.345417152969498, 'learning'], [1.1532473186824548, 'school'], [1.007941504664658, 'students']]\n",
            "====================================================================================================\n",
            "No of Words in idf_feature_names: 2000\n"
          ],
          "name": "stdout"
        }
      ]
    },
    {
      "cell_type": "code",
      "metadata": {
        "colab_type": "code",
        "id": "tCUxRXL95tqJ",
        "outputId": "c17d9e5f-06ec-461d-9b60-33380f5c6f51",
        "colab": {
          "base_uri": "https://localhost:8080/",
          "height": 34
        }
      },
      "source": [
        "idf_feature_names=idf_feature_names[:2000]\n",
        "\n",
        "print(\"No of Words in idf_feature_names:\",len(idf_feature_names))"
      ],
      "execution_count": 0,
      "outputs": [
        {
          "output_type": "stream",
          "text": [
            "No of Words in idf_feature_names: 2000\n"
          ],
          "name": "stdout"
        }
      ]
    },
    {
      "cell_type": "code",
      "metadata": {
        "colab_type": "code",
        "id": "vcZpa0nx5tqO",
        "colab": {}
      },
      "source": [
        "#extracting Only words from the Lists of lists \n",
        "top_2000_words_essays_title=[]\n",
        "for i in range(2000):\n",
        "    top_2000_words_essays_title.append(idf_feature_names[i][1])"
      ],
      "execution_count": 0,
      "outputs": []
    },
    {
      "cell_type": "code",
      "metadata": {
        "colab_type": "code",
        "id": "5Oqyh3NT5tqS",
        "outputId": "670f58a5-09c9-44b7-e421-f2c075b24a77",
        "colab": {
          "base_uri": "https://localhost:8080/",
          "height": 54
        }
      },
      "source": [
        "print(top_2000_words_essays_title[:100])"
      ],
      "execution_count": 0,
      "outputs": [
        {
          "output_type": "stream",
          "text": [
            "['physics', 'calculators', 'dash', 'dot', 'chemistry', 'kitchen', 'makerspace', 'legos', 'fractions', 'lights', 'minis', 'whiteboards', 'mentor', 'cooking', 'artist', 'business', 'therapy', 'dramatic', 'bundle', 'photos', 'delays', 'verbal', 'anchor', 'tv', 'lego', 'football', 'shelves', 'avid', 'grammar', 'pads', 'ap', 'subscription', 'ropes', 'impairments', 'animal', 'sharpener', 'binders', 'pockets', 'green', 'fair', 'win', 'typing', 'chrome', 'kindle', 'clipboards', 'player', 'artwork', 'prek', 'titles', 'meetings', 'calming', 'west', 'sentences', 'notebook', 'visuals', 'sticks', 'osmo', 'covers', 'clubs', 'stamina', '3d', 'observe', 'environmental', 'wall', 'input', 'saw', 'puzzles', 'graphic', 'anxiety', 'rules', 'reluctant', 'meal', 'emotions', 'wiggly', 'stars', 'spirit', 'exercises', 'phones', 'lap', 'circle', 'calories', 'assignment', 'structures', 'standardized', 'personalized', 'application', 'points', 'legs', 'cold', 'assessment', 'robot', 'freely', 'figure', 'demands', 'whiteboard', 'scissors', 'routines', 'printing', 'projector', 'dr']\n"
          ],
          "name": "stdout"
        }
      ]
    },
    {
      "cell_type": "markdown",
      "metadata": {
        "id": "ztcPKMkE5VDC",
        "colab_type": "text"
      },
      "source": [
        "## 2.4 Formation of Co-occurance Matrix"
      ]
    },
    {
      "cell_type": "markdown",
      "metadata": {
        "id": "RSaBpYDc6TBm",
        "colab_type": "text"
      },
      "source": [
        "#### Comment 1:: Obtain Co-occuarnce matrix on given corpus and top words \n",
        "\n"
      ]
    },
    {
      "cell_type": "code",
      "metadata": {
        "id": "coGe1P9S5VDF",
        "colab_type": "code",
        "outputId": "48261e0e-bd95-4c10-ab2e-2dd79e1e8246",
        "colab": {
          "base_uri": "https://localhost:8080/",
          "height": 204
        }
      },
      "source": [
        "##https://medium.com/swlh/truncated-singular-value-decomposition-svd-using-amazon-food-reviews-891d97af5d8d\n",
        "\n",
        "corpus=[\"abc def ijk pqr\", \"pqr klm opq\", \"lmn pqr xyz abc def pqr abc\"]\n",
        "\n",
        "top_words=[\"abc\", \"pqr\", \"def\"]\n",
        "\n",
        "sub_cooccurrenceMatrix = np.zeros((3,3)) # sub co-occurance matrix \n",
        "\n",
        "context_window_size =2 \n",
        "\n",
        "\n",
        "#X_train_essay_title_5000=X_train['essay_title'][:2000].values #for time limit we are considering only top 2000 reviews \n",
        "\n",
        "for sent in tqdm(corpus): # obtaining each sentence of review(from corpus)\n",
        "    words_sent = sent.split() # obtaining each word of a sent\n",
        "    for index,word in enumerate(words_sent): # obtaining the index of each word from sentence\n",
        "        if word in top_words: # checking whether the word is present in Top 2000\n",
        "            for j in range(max(index - context_window_size,0),min(index + context_window_size , len(words_sent) -1) + 1):\n",
        "                if words_sent[j] in top_words:\n",
        "                    if words_sent[j] != word:\n",
        "                        sub_cooccurrenceMatrix[top_words.index(words_sent[j]), top_words.index(word)] += 1    \n",
        "                    else:\n",
        "                        pass\n",
        "                else:\n",
        "                    pass\n",
        "        else:\n",
        "            pass\n",
        "        \n",
        "print(\"\\n\")        \n",
        "print(\"=\"*100)\n",
        "print(\"Sub_Co-occurance Matrix for Given Corpus and Tops Words=\")\n",
        "print(\"-\"*100)\n",
        "print(sub_cooccurrenceMatrix)\n",
        "print(\"=\"*100)\n",
        "print(\"=\"*100)"
      ],
      "execution_count": 0,
      "outputs": [
        {
          "output_type": "stream",
          "text": [
            "100%|██████████| 3/3 [00:00<00:00, 6061.13it/s]"
          ],
          "name": "stderr"
        },
        {
          "output_type": "stream",
          "text": [
            "\n",
            "\n",
            "====================================================================================================\n",
            "Sub_Co-occurance Matrix for Given Corpus and Tops Words=\n",
            "----------------------------------------------------------------------------------------------------\n",
            "[[0. 3. 3.]\n",
            " [3. 0. 2.]\n",
            " [3. 2. 0.]]\n",
            "====================================================================================================\n",
            "====================================================================================================\n"
          ],
          "name": "stdout"
        },
        {
          "output_type": "stream",
          "text": [
            "\n"
          ],
          "name": "stderr"
        }
      ]
    },
    {
      "cell_type": "code",
      "metadata": {
        "colab_type": "code",
        "id": "8R4stjeY5tqY",
        "colab": {}
      },
      "source": [
        "cooccurrenceMatrix = np.zeros((2000,2000)) # co-occurance matrix\n",
        "\n",
        "context_window =5 "
      ],
      "execution_count": 0,
      "outputs": []
    },
    {
      "cell_type": "code",
      "metadata": {
        "colab_type": "code",
        "id": "NG9Si_XC5tqg",
        "outputId": "76a568ca-1936-4155-d8f6-e2eab442c53b",
        "colab": {
          "base_uri": "https://localhost:8080/",
          "height": 34
        }
      },
      "source": [
        "##https://medium.com/swlh/truncated-singular-value-decomposition-svd-using-amazon-food-reviews-891d97af5d8d\n",
        "\n",
        "X_train_essay_title_5000=X_train['essay_title'][:2000].values #for time limit we are considering only top 2000 reviews \n",
        "\n",
        "for sent in tqdm(X_train_essay_title_5000): # obtaining each sentence of review\n",
        "    words_sent = sent.split() # obtaining each word of a sent\n",
        "    for index,word in enumerate(words_sent): # obtaining the index of each word from sentence\n",
        "        if word in top_2000_words_essays_title: # checking whether the word is present in Top 2000\n",
        "            for j in range(max(index - context_window,0),min(index + context_window , len(words_sent) -1) + 1):\n",
        "                if words_sent[j] in top_2000_words_essays_title:\n",
        "                    if words_sent[j] != word:\n",
        "                        cooccurrenceMatrix[top_2000_words_essays_title.index(words_sent[j]), top_2000_words_essays_title.index(word)] += 1    \n",
        "                    else:\n",
        "                        pass\n",
        "                else:\n",
        "                    pass\n",
        "        else:\n",
        "            pass"
      ],
      "execution_count": 0,
      "outputs": [
        {
          "output_type": "stream",
          "text": [
            "100%|██████████| 2000/2000 [03:08<00:00, 10.62it/s]\n"
          ],
          "name": "stderr"
        }
      ]
    },
    {
      "cell_type": "code",
      "metadata": {
        "colab_type": "code",
        "id": "5zyrUxqe5tqr",
        "outputId": "e48e50b4-2f0e-4d5d-d23f-8e2e328ffdc0",
        "colab": {
          "base_uri": "https://localhost:8080/",
          "height": 238
        }
      },
      "source": [
        "cooccurrenceMatrix"
      ],
      "execution_count": 0,
      "outputs": [
        {
          "output_type": "execute_result",
          "data": {
            "text/plain": [
              "array([[0.000e+00, 0.000e+00, 0.000e+00, ..., 1.000e+00, 5.000e+00,\n",
              "        1.500e+01],\n",
              "       [0.000e+00, 0.000e+00, 0.000e+00, ..., 2.000e+00, 5.000e+00,\n",
              "        2.100e+01],\n",
              "       [0.000e+00, 0.000e+00, 0.000e+00, ..., 6.000e+00, 1.000e+00,\n",
              "        9.000e+00],\n",
              "       ...,\n",
              "       [1.000e+00, 2.000e+00, 6.000e+00, ..., 0.000e+00, 3.190e+02,\n",
              "        1.863e+03],\n",
              "       [5.000e+00, 5.000e+00, 1.000e+00, ..., 3.190e+02, 0.000e+00,\n",
              "        2.476e+03],\n",
              "       [1.500e+01, 2.100e+01, 9.000e+00, ..., 1.863e+03, 2.476e+03,\n",
              "        0.000e+00]])"
            ]
          },
          "metadata": {
            "tags": []
          },
          "execution_count": 19
        }
      ]
    },
    {
      "cell_type": "code",
      "metadata": {
        "colab_type": "code",
        "id": "2IS5yXpU5trW",
        "colab": {}
      },
      "source": [
        "## 2.4 Truncated SVD (PCA) on Co-Occurance Matrix"
      ],
      "execution_count": 0,
      "outputs": []
    },
    {
      "cell_type": "code",
      "metadata": {
        "colab_type": "code",
        "id": "FI6tR3wY5tra",
        "outputId": "787c0e33-73a5-4978-f222-c09abd14f2b1",
        "colab": {
          "base_uri": "https://localhost:8080/",
          "height": 930
        }
      },
      "source": [
        "##https://scikit-learn.org/stable/modules/generated/sklearn.decomposition.TruncatedSVD.html\n",
        "\n",
        "##https://medium.com/swlh/truncated-singular-value-decomposition-svd-using-amazon-food-reviews-891d97af5d8d\n",
        "\n",
        "from sklearn.decomposition import TruncatedSVD\n",
        "\n",
        "\n",
        "\n",
        "\n",
        "# Program to find the optimal number of components for Truncated SVD\n",
        "diff_dimension = [10,30,50,70,90,100,200,300,400,500]#,3500] # list containing different values of components(dimensions)\n",
        "variance = [] # explained variance ratio for each component of Truncated SVD\n",
        "for i in tqdm(diff_dimension):\n",
        "    svd = TruncatedSVD(n_components=i,n_iter=2)#number of iterations set to 2 for speed up the algorithm \n",
        "    svd.fit(cooccurrenceMatrix)\n",
        "    variance.append(svd.explained_variance_ratio_.sum())\n",
        "    print(\"Number of Dimesions(components) = %r and explained variance = %r\"%(i,svd.explained_variance_ratio_.sum()))\n",
        "\n",
        "    \n",
        "\n",
        "#program to plot the variance vs number of dimensions(elbow method to determine optimal dimensions that will preserve max variance)    \n",
        "plt.figure(figsize=(15,12))    \n",
        "plt.plot(diff_dimension, variance)\n",
        "plt.xlabel('Number of Dimensions ',fontsize=18)\n",
        "plt.ylabel('Varience',fontsize=18 )\n",
        "plt.title(\"Elbow Method Plot of Number of Dimesnions(components) vs explained variance\",fontsize=20)\n",
        "plt.grid()\n",
        "plt.show()\n",
        "\n",
        "\n"
      ],
      "execution_count": 0,
      "outputs": [
        {
          "output_type": "stream",
          "text": [
            " 20%|██        | 2/10 [00:00<00:01,  7.75it/s]"
          ],
          "name": "stderr"
        },
        {
          "output_type": "stream",
          "text": [
            "Number of Dimesions(components) = 10 and explained variance = 0.9256091911370298\n",
            "Number of Dimesions(components) = 30 and explained variance = 0.9586022225642538\n"
          ],
          "name": "stdout"
        },
        {
          "output_type": "stream",
          "text": [
            "\r 30%|███       | 3/10 [00:00<00:01,  6.90it/s]"
          ],
          "name": "stderr"
        },
        {
          "output_type": "stream",
          "text": [
            "Number of Dimesions(components) = 50 and explained variance = 0.9719810531375802\n"
          ],
          "name": "stdout"
        },
        {
          "output_type": "stream",
          "text": [
            "\r 40%|████      | 4/10 [00:00<00:01,  5.67it/s]"
          ],
          "name": "stderr"
        },
        {
          "output_type": "stream",
          "text": [
            "Number of Dimesions(components) = 70 and explained variance = 0.9791502794584449\n"
          ],
          "name": "stdout"
        },
        {
          "output_type": "stream",
          "text": [
            "\r 50%|█████     | 5/10 [00:01<00:01,  4.64it/s]"
          ],
          "name": "stderr"
        },
        {
          "output_type": "stream",
          "text": [
            "Number of Dimesions(components) = 90 and explained variance = 0.9832713228327734\n"
          ],
          "name": "stdout"
        },
        {
          "output_type": "stream",
          "text": [
            "\r 60%|██████    | 6/10 [00:01<00:00,  4.07it/s]"
          ],
          "name": "stderr"
        },
        {
          "output_type": "stream",
          "text": [
            "Number of Dimesions(components) = 100 and explained variance = 0.984787265362125\n"
          ],
          "name": "stdout"
        },
        {
          "output_type": "stream",
          "text": [
            "\r 70%|███████   | 7/10 [00:01<00:01,  2.97it/s]"
          ],
          "name": "stderr"
        },
        {
          "output_type": "stream",
          "text": [
            "Number of Dimesions(components) = 200 and explained variance = 0.9923085431901504\n"
          ],
          "name": "stdout"
        },
        {
          "output_type": "stream",
          "text": [
            "\r 80%|████████  | 8/10 [00:02<00:00,  2.05it/s]"
          ],
          "name": "stderr"
        },
        {
          "output_type": "stream",
          "text": [
            "Number of Dimesions(components) = 300 and explained variance = 0.9953273530429999\n"
          ],
          "name": "stdout"
        },
        {
          "output_type": "stream",
          "text": [
            "\r 90%|█████████ | 9/10 [00:03<00:00,  1.49it/s]"
          ],
          "name": "stderr"
        },
        {
          "output_type": "stream",
          "text": [
            "Number of Dimesions(components) = 400 and explained variance = 0.996969623412863\n"
          ],
          "name": "stdout"
        },
        {
          "output_type": "stream",
          "text": [
            "100%|██████████| 10/10 [00:05<00:00,  1.90it/s]"
          ],
          "name": "stderr"
        },
        {
          "output_type": "stream",
          "text": [
            "Number of Dimesions(components) = 500 and explained variance = 0.9979523531252995\n"
          ],
          "name": "stdout"
        },
        {
          "output_type": "stream",
          "text": [
            "\n"
          ],
          "name": "stderr"
        },
        {
          "output_type": "display_data",
          "data": {
            "image/png": "[encoded data removed]",
            "text/plain": [
              "<Figure size 1080x864 with 1 Axes>"
            ]
          },
          "metadata": {
            "tags": [],
            "needs_background": "light"
          }
        }
      ]
    },
    {
      "cell_type": "code",
      "metadata": {
        "colab_type": "code",
        "id": "iLnVhxQl5trt",
        "colab": {}
      },
      "source": [
        "#### By Observing we can select 200 componets that preserve variance of 0.99  "
      ],
      "execution_count": 0,
      "outputs": []
    },
    {
      "cell_type": "code",
      "metadata": {
        "colab_type": "code",
        "id": "kONkFqXk5tr9",
        "outputId": "78d2657d-e39f-4d5d-aad0-abe7e8138d0a",
        "colab": {
          "base_uri": "https://localhost:8080/",
          "height": 119
        }
      },
      "source": [
        "print(\"Before Applying SVD::\")\n",
        "\n",
        "print(\"Shape of co-occurance Matrix cooccurrenceMatrix:\",cooccurrenceMatrix.shape)\n",
        "\n",
        "\n",
        "\n",
        "svd = TruncatedSVD(n_components=200,n_iter=1)\n",
        "X_co_occurance_matrix_essays_title_svd=svd.fit_transform(cooccurrenceMatrix)\n",
        "\n",
        "\n",
        "print(\"=\"*100)\n",
        "print(\"=\"*100)\n",
        "print(\"After Applying SVD::\")\n",
        "\n",
        "print(\"Shape of Matrix X_co_occurance_matrix_essays_title_svd\",X_co_occurance_matrix_essays_title_svd.shape, )\n",
        "#print(\"Shape of Matrix X_test_tfidf_svd \",X_test_tfidf_svd.shape,\" ,Shape of matrix y_test \",y_test.shape)"
      ],
      "execution_count": 0,
      "outputs": [
        {
          "output_type": "stream",
          "text": [
            "Before Applying SVD::\n",
            "Shape of co-occurance Matrix cooccurrenceMatrix: (2000, 2000)\n",
            "====================================================================================================\n",
            "====================================================================================================\n",
            "After Applying SVD::\n",
            "Shape of Matrix X_co_occurance_matrix_essays_title_svd (2000, 200)\n"
          ],
          "name": "stdout"
        }
      ]
    },
    {
      "cell_type": "markdown",
      "metadata": {
        "colab_type": "text",
        "id": "NkXlrhpb0qsZ"
      },
      "source": [
        "## 2.5 Dictionary of words that are present in the Co-occurance Matrix"
      ]
    },
    {
      "cell_type": "code",
      "metadata": {
        "colab_type": "code",
        "id": "Sdp62KAr5tsE",
        "outputId": "35be3c24-4f09-4ad6-c8c9-9f366e04c79f",
        "colab": {
          "base_uri": "https://localhost:8080/",
          "height": 34
        }
      },
      "source": [
        "word_dict_avg_w2v = {}\n",
        "for i in tqdm(range(len(top_2000_words_essays_title))):\n",
        "    word_dict_avg_w2v[top_2000_words_essays_title[i]] = X_co_occurance_matrix_essays_title_svd  [i]"
      ],
      "execution_count": 0,
      "outputs": [
        {
          "output_type": "stream",
          "text": [
            "100%|██████████| 2000/2000 [00:00<00:00, 614145.11it/s]\n"
          ],
          "name": "stderr"
        }
      ]
    },
    {
      "cell_type": "code",
      "metadata": {
        "colab_type": "code",
        "id": "Rz-lWxtS5tsL",
        "outputId": "6c72063a-8500-49f8-d0a8-b911edeb942f",
        "colab": {
          "base_uri": "https://localhost:8080/",
          "height": 34
        }
      },
      "source": [
        "len(word_dict_avg_w2v)"
      ],
      "execution_count": 0,
      "outputs": [
        {
          "output_type": "execute_result",
          "data": {
            "text/plain": [
              "2000"
            ]
          },
          "metadata": {
            "tags": []
          },
          "execution_count": 25
        }
      ]
    },
    {
      "cell_type": "code",
      "metadata": {
        "colab_type": "code",
        "id": "IAZZthDL5tsW",
        "outputId": "b3de36db-f945-4707-c379-5e0d72d6c02f",
        "scrolled": true,
        "colab": {
          "base_uri": "https://localhost:8080/",
          "height": 884
        }
      },
      "source": [
        "#https://www.geeksforgeeks.org/python-get-first-n-keyvalue-pairs-in-given-dictionary/\n",
        "\n",
        "import itertools \n",
        "\n",
        "# Using islice() + items()  \n",
        "# Get first N items in dictionary  \n",
        "out = dict(itertools.islice(word_dict_avg_w2v.items(), 1))  \n",
        "        \n",
        "# printing result   \n",
        "print(\"word_dict_avg_w2v first Key Value Pair = \\n\" + str(out))  "
      ],
      "execution_count": 0,
      "outputs": [
        {
          "output_type": "stream",
          "text": [
            "word_dict_avg_w2v first Key Value Pair = \n",
            "{'physics': array([ 1.37809687e+01, -8.66053403e+00,  1.34286247e+00, -2.56647185e+00,\n",
            "       -3.85346562e-01,  1.96121377e+00, -4.90967227e-01,  3.98108670e-01,\n",
            "       -1.00320254e+00,  3.72940056e-01, -3.24562491e+00, -9.36961890e-01,\n",
            "       -9.13448509e-01,  1.99230062e-01, -5.82953161e-01, -1.47440456e+00,\n",
            "        5.32821859e-03,  4.38483134e-01,  1.56219327e+00, -2.32247046e+00,\n",
            "        3.39848114e-01, -1.27732104e+00,  3.21766879e-01, -2.79145124e-02,\n",
            "       -3.78340997e-01,  4.41946508e-01, -1.68783816e+00, -2.96861336e+00,\n",
            "       -3.02023730e-01,  1.75074108e+00,  5.42565644e-02,  4.49343794e-01,\n",
            "        1.46933261e+00,  1.34679894e+00,  7.52293536e-02,  1.64903632e-01,\n",
            "       -1.49221354e-01, -1.08987907e+00,  7.58924583e-01,  9.01465180e-02,\n",
            "       -4.37441066e-01,  1.53729965e-01,  7.58796976e-01,  4.18509184e-01,\n",
            "       -8.70749472e-01, -1.02455754e+00, -1.85463425e+00, -4.74125302e-01,\n",
            "       -5.91697053e-01,  5.52395726e-01,  5.18645092e-01,  1.63174514e+00,\n",
            "       -1.82406312e-01, -5.41520441e-01,  2.96462124e-01,  9.11761964e-01,\n",
            "        2.59264535e+00,  1.01828343e+00,  2.09911050e-01,  1.14867609e-01,\n",
            "       -6.38649386e-01, -2.08998196e+00, -5.69646761e-01, -8.82390824e-01,\n",
            "       -1.51100057e+00, -6.73542613e-01,  1.10571696e-01,  8.01010721e-01,\n",
            "       -1.82036930e+00, -8.51453821e-01, -6.56711899e-01, -1.33812633e+00,\n",
            "       -1.43678665e+00, -1.85807463e-01, -5.58092017e-01, -4.65688418e-01,\n",
            "       -8.76975564e-01,  4.66329368e-01, -5.26377933e-02,  6.60767701e-01,\n",
            "        5.13166141e-01, -1.71393263e-01,  1.49013499e-01,  7.78368785e-01,\n",
            "        4.69946669e-01,  8.67500541e-01, -6.94277262e-02, -1.09459026e+00,\n",
            "        9.06831064e-01,  1.20625605e+00, -5.54119617e-02, -1.18755092e-01,\n",
            "        3.94102640e-01,  4.17222600e-01, -8.95294452e-01, -3.93649888e-01,\n",
            "        3.29858824e-01,  8.58989007e-01,  1.29716202e+00, -1.85760106e-02,\n",
            "       -1.10584621e-01,  1.39951605e-01,  3.43799458e-01,  2.86609492e-02,\n",
            "        4.50694197e-01,  8.20621546e-01, -4.83153848e-01, -6.86258309e-02,\n",
            "        9.91351647e-03, -6.26988612e-01, -5.64355925e-01, -1.42487783e+00,\n",
            "        4.39914491e-01, -1.06177352e+00,  4.58261468e-02, -3.98976325e-01,\n",
            "        3.99681017e-02,  7.22114219e-02, -1.79951092e+00,  8.47795702e-01,\n",
            "        1.44071257e+00, -1.27958881e-01,  5.14348756e-01,  8.88862645e-01,\n",
            "       -1.10479287e-01, -8.69901349e-01, -3.31674839e-01,  3.07577343e-01,\n",
            "        2.67583009e-02, -1.08783788e+00, -4.72937760e-01, -1.28054812e+00,\n",
            "       -1.55508425e-01, -2.08217291e-01, -7.82952362e-03, -1.01277268e+00,\n",
            "       -1.47334701e-01,  2.52528382e-01,  8.02412930e-01, -2.52728661e-01,\n",
            "        1.02552458e+00,  6.33861583e-01, -2.86833338e-01,  2.42819535e-01,\n",
            "        3.28907538e-01, -4.80936341e-01,  3.78107274e-01,  5.36193643e-01,\n",
            "        4.11634460e-01,  1.03101180e-01,  8.12163248e-02,  1.86113351e-01,\n",
            "        1.16667046e-01, -5.28407777e-02,  2.69515889e-01, -3.01460321e-01,\n",
            "       -1.06046032e+00, -6.95698772e-01, -9.13108838e-01, -3.82900740e-01,\n",
            "        1.19076371e-01, -3.17926161e-02,  4.83743808e-01,  9.19500848e-01,\n",
            "       -4.35655018e-01, -2.97531114e-01, -7.25735331e-02, -9.36075257e-02,\n",
            "       -6.11038610e-01,  4.41765651e-01, -8.51833079e-02,  5.24529198e-01,\n",
            "       -4.67583648e-01,  2.15170923e-01,  6.05929077e-01, -1.22659025e-01,\n",
            "       -4.12964415e-01, -4.51074143e-02, -6.14708297e-01, -6.65436108e-01,\n",
            "        8.55596060e-01,  6.98142900e-01,  1.43389666e-01,  3.49975293e-01,\n",
            "       -1.07189826e-02, -4.35853264e-01, -5.32731732e-01, -1.92046740e-01,\n",
            "        3.19125911e-01,  3.84589270e-01, -5.89835338e-02, -4.29725302e-01,\n",
            "        2.84244967e-01, -5.39604666e-02, -6.11753856e-01, -8.29812675e-01,\n",
            "        7.47637956e-01,  2.06803654e-02,  8.02259923e-01, -3.48692253e-01])}\n"
          ],
          "name": "stdout"
        }
      ]
    },
    {
      "cell_type": "code",
      "metadata": {
        "colab_type": "code",
        "id": "SMk-1TCj5tsb",
        "colab": {}
      },
      "source": [
        "glove_words_top_2000_words =  list(word_dict_avg_w2v.keys())#List of keys that are present the word_dict_avg_w2v"
      ],
      "execution_count": 0,
      "outputs": []
    },
    {
      "cell_type": "code",
      "metadata": {
        "colab_type": "code",
        "id": "FtV9C6KY5tsj",
        "outputId": "2c4a599e-fb58-48ec-a81b-8fe30c27b7ff",
        "scrolled": true,
        "colab": {
          "base_uri": "https://localhost:8080/",
          "height": 51
        }
      },
      "source": [
        "#stronging variables into pickle files python: \n",
        "#http://www.jessicayung.com/how-to-use-pickle-to-save-and-load-variables-in-python/\n",
        "\n",
        "print(len(glove_words_top_2000_words))\n",
        "print(glove_words_top_2000_words[:10])"
      ],
      "execution_count": 0,
      "outputs": [
        {
          "output_type": "stream",
          "text": [
            "2000\n",
            "['physics', 'calculators', 'dash', 'dot', 'chemistry', 'kitchen', 'makerspace', 'legos', 'fractions', 'lights']\n"
          ],
          "name": "stdout"
        }
      ]
    },
    {
      "cell_type": "markdown",
      "metadata": {
        "colab_type": "text",
        "id": "Omxa1y9u0qto"
      },
      "source": [
        "## 2.6 AVG w2v of Prepossed Essays Train & Test from top 2000 words of Co-Occurance Matrix"
      ]
    },
    {
      "cell_type": "code",
      "metadata": {
        "colab_type": "code",
        "id": "IiTrQ1oe5ts1",
        "outputId": "ec66d360-f1a3-437e-cc75-e76caa334d00",
        "colab": {
          "base_uri": "https://localhost:8080/",
          "height": 68
        }
      },
      "source": [
        "# average Word2Vec\n",
        "# compute average word2vec for each review.\n",
        "X_train_essays_avg_w2v_ = []; # the avg-w2v for each sentence/review is stored in this list\n",
        "for sentence in tqdm(X_train['preprocessed_essays']): # for each review/sentence\n",
        "    vector = np.zeros(200) # as word vectors are of zero length\n",
        "    cnt_words =0; # num of words with a valid vector in the sentence/review\n",
        "    for word in sentence.split(): # for each word in a review/sentence\n",
        "        if word in glove_words_top_2000_words:\n",
        "            vector += word_dict_avg_w2v[word]\n",
        "            cnt_words += 1\n",
        "    if cnt_words != 0:\n",
        "        vector /= cnt_words\n",
        "    X_train_essays_avg_w2v_.append(vector)\n",
        "\n",
        "print(len(X_train_essays_avg_w2v_))\n",
        "print(len(X_train_essays_avg_w2v_[0]))\n",
        "#X_train_essays_avg_w2v_"
      ],
      "execution_count": 0,
      "outputs": [
        {
          "output_type": "stream",
          "text": [
            "100%|██████████| 20100/20100 [01:13<00:00, 274.51it/s]"
          ],
          "name": "stderr"
        },
        {
          "output_type": "stream",
          "text": [
            "20100\n",
            "200\n"
          ],
          "name": "stdout"
        },
        {
          "output_type": "stream",
          "text": [
            "\n"
          ],
          "name": "stderr"
        }
      ]
    },
    {
      "cell_type": "code",
      "metadata": {
        "colab_type": "code",
        "id": "zuxoPrSi5ts7",
        "outputId": "87f7c45a-0f57-43fe-96ad-e8902e5fa424",
        "colab": {
          "base_uri": "https://localhost:8080/",
          "height": 68
        }
      },
      "source": [
        "# average Word2Vec\n",
        "# compute average word2vec for each review.\n",
        "X_test_essays_avg_w2v_ = []; # the avg-w2v for each sentence/review is stored in this list\n",
        "for sentence in tqdm(X_test['preprocessed_essays']): # for each review/sentence\n",
        "    vector = np.zeros(200) # as word vectors are of zero length\n",
        "    cnt_words =0; # num of words with a valid vector in the sentence/review\n",
        "    for word in sentence.split(): # for each word in a review/sentence\n",
        "        if word in glove_words_top_2000_words:\n",
        "            vector += word_dict_avg_w2v[word]\n",
        "            cnt_words += 1\n",
        "    if cnt_words != 0:\n",
        "        vector /= cnt_words\n",
        "    X_test_essays_avg_w2v_.append(vector)\n",
        "\n",
        "print(len(X_test_essays_avg_w2v_))\n",
        "print(len(X_test_essays_avg_w2v_[0]))\n"
      ],
      "execution_count": 0,
      "outputs": [
        {
          "output_type": "stream",
          "text": [
            "100%|██████████| 9900/9900 [00:34<00:00, 286.40it/s]"
          ],
          "name": "stderr"
        },
        {
          "output_type": "stream",
          "text": [
            "9900\n",
            "200\n"
          ],
          "name": "stdout"
        },
        {
          "output_type": "stream",
          "text": [
            "\n"
          ],
          "name": "stderr"
        }
      ]
    },
    {
      "cell_type": "markdown",
      "metadata": {
        "colab_type": "text",
        "id": "aPOZxZWK5ttD"
      },
      "source": [
        "## 2.7   AVG w2v representation of  Preprocessed Project Title into train ,test"
      ]
    },
    {
      "cell_type": "code",
      "metadata": {
        "colab_type": "code",
        "id": "gKIkwCH95ttD",
        "outputId": "880d9d5e-3405-4137-9d51-ccae59fe275e",
        "colab": {
          "base_uri": "https://localhost:8080/",
          "height": 68
        }
      },
      "source": [
        "# average Word2Vec\n",
        "# compute average word2vec for each review.\n",
        "X_train_project_title_avg_w2v_ = []; # the avg-w2v for each sentence/review is stored in this list\n",
        "for sentence in tqdm(X_train['preprocessed_project_title']): # for each review/sentence\n",
        "    vector = np.zeros(200) # as word vectors are of zero length\n",
        "    cnt_words =0; # num of words with a valid vector in the sentence/review\n",
        "    for word in sentence.split(): # for each word in a review/sentence\n",
        "        if word in glove_words_top_2000_words:\n",
        "            vector += word_dict_avg_w2v[word]\n",
        "            cnt_words += 1\n",
        "    if cnt_words != 0:\n",
        "        vector /= cnt_words\n",
        "    X_train_project_title_avg_w2v_.append(vector)\n",
        "\n",
        "print(len(X_train_project_title_avg_w2v_))\n",
        "print(len(X_train_project_title_avg_w2v_[0]))"
      ],
      "execution_count": 0,
      "outputs": [
        {
          "output_type": "stream",
          "text": [
            "100%|██████████| 20100/20100 [00:02<00:00, 7569.95it/s]"
          ],
          "name": "stderr"
        },
        {
          "output_type": "stream",
          "text": [
            "20100\n",
            "200\n"
          ],
          "name": "stdout"
        },
        {
          "output_type": "stream",
          "text": [
            "\n"
          ],
          "name": "stderr"
        }
      ]
    },
    {
      "cell_type": "code",
      "metadata": {
        "colab_type": "code",
        "id": "C9TiZNH85ttL",
        "outputId": "06980852-ef42-4973-ab73-bb38074e3369",
        "colab": {
          "base_uri": "https://localhost:8080/",
          "height": 68
        }
      },
      "source": [
        "# average Word2Vec\n",
        "# compute average word2vec for each review.\n",
        "X_test_project_title_avg_w2v_ = []; # the avg-w2v for each sentence/review is stored in this list\n",
        "for sentence in tqdm(X_test['preprocessed_project_title']): # for each review/sentence\n",
        "    vector = np.zeros(200) # as word vectors are of zero length\n",
        "    cnt_words =0; # num of words with a valid vector in the sentence/review\n",
        "    for word in sentence.split(): # for each word in a review/sentence\n",
        "        if word in glove_words_top_2000_words:\n",
        "            vector += word_dict_avg_w2v[word]\n",
        "            cnt_words += 1\n",
        "    if cnt_words != 0:\n",
        "        vector /= cnt_words\n",
        "    X_test_project_title_avg_w2v_.append(vector)\n",
        "\n",
        "print(len(X_test_project_title_avg_w2v_))\n",
        "print(len(X_test_project_title_avg_w2v_[0]))"
      ],
      "execution_count": 0,
      "outputs": [
        {
          "output_type": "stream",
          "text": [
            "100%|██████████| 9900/9900 [00:01<00:00, 7359.58it/s]"
          ],
          "name": "stderr"
        },
        {
          "output_type": "stream",
          "text": [
            "9900\n",
            "200\n"
          ],
          "name": "stdout"
        },
        {
          "output_type": "stream",
          "text": [
            "\n"
          ],
          "name": "stderr"
        }
      ]
    },
    {
      "cell_type": "markdown",
      "metadata": {
        "colab_type": "text",
        "id": "6FDsc1epCyoD"
      },
      "source": [
        "we are going to consider\n",
        "\n",
        "       - school_state : categorical data\n",
        "       - clean_categories : categorical data\n",
        "       - clean_subcategories : categorical data\n",
        "       - project_grade_category : categorical data\n",
        "       - teacher_prefix : categorical data\n",
        "       \n",
        "       - project_title : text data\n",
        "       - text : text data\n",
        "       - project_resource_summary: text data (optinal)\n",
        "       \n",
        "       - quantity : numerical (optinal)\n",
        "       - teacher_number_of_previously_posted_projects : numerical\n",
        "       - price : numerical"
      ]
    },
    {
      "cell_type": "markdown",
      "metadata": {
        "colab_type": "text",
        "id": "0d0QeeQ-CyoD"
      },
      "source": [
        "## 2.8 Vectorizing Categorical data"
      ]
    },
    {
      "cell_type": "markdown",
      "metadata": {
        "colab_type": "text",
        "id": "kFZFSOirCyoD"
      },
      "source": [
        "- https://www.appliedaicourse.com/course/applied-ai-course-online/lessons/handling-categorical-and-numerical-features/"
      ]
    },
    {
      "cell_type": "markdown",
      "metadata": {
        "colab_type": "text",
        "id": "XxKhXTeN5ttd"
      },
      "source": [
        "### 2.8.1 One Hot Encoding Representation of Categories for train test "
      ]
    },
    {
      "cell_type": "code",
      "metadata": {
        "colab_type": "code",
        "id": "_5mt7VMXCyoF",
        "outputId": "1ce17dc1-8cd2-4e89-c765-6da019ef6819",
        "colab": {
          "base_uri": "https://localhost:8080/",
          "height": 85
        }
      },
      "source": [
        "##https://www.appliedaicourse.com/course/11/Applied-Machine-learning-course\n",
        "\n",
        "\n",
        "# we use count vectorizer to convert the values into one \n",
        "from sklearn.feature_extraction.text import CountVectorizer\n",
        "\n",
        "vectorizer = CountVectorizer(lowercase=False, binary=True)\n",
        "\n",
        "X_train_categories_one_hot = vectorizer.fit_transform(X_train['clean_categories'].values)#fit to only training dataset \n",
        "print(vectorizer.get_feature_names())\n",
        "print(\"=\"*100)\n",
        "print(\"Shape of matrix X_train_categories_one_hot after one hot encodig \",X_train_categories_one_hot.shape)\n",
        "\n",
        "\n",
        "X_test_categories_one_hot = vectorizer.transform(X_test['clean_categories'].values)\n",
        "print(\"Shape of matrix X_test_categories_one_hot  after one hot encodig \",X_test_categories_one_hot.shape)"
      ],
      "execution_count": 0,
      "outputs": [
        {
          "output_type": "stream",
          "text": [
            "['AppliedLearning', 'Health_Sports', 'History_Civics', 'Literacy_Language', 'Math_Science', 'Music_Arts', 'SpecialNeeds']\n",
            "====================================================================================================\n",
            "Shape of matrix X_train_categories_one_hot after one hot encodig  (20100, 7)\n",
            "Shape of matrix X_test_categories_one_hot  after one hot encodig  (9900, 7)\n"
          ],
          "name": "stdout"
        }
      ]
    },
    {
      "cell_type": "markdown",
      "metadata": {
        "colab_type": "text",
        "id": "iBKvczqN5tti"
      },
      "source": [
        "### 2.8.2 One Hot Encoding Representation of Sub-Categories for train, test "
      ]
    },
    {
      "cell_type": "code",
      "metadata": {
        "colab_type": "code",
        "id": "npr7SzACCyoH",
        "outputId": "c07f86e6-ebf4-4747-adc3-468a3c8559c5",
        "colab": {
          "base_uri": "https://localhost:8080/",
          "height": 105
        }
      },
      "source": [
        "# we use count vectorizer to convert the values into one \n",
        "vectorizer = CountVectorizer(lowercase=False, binary=True)\n",
        "\n",
        "X_train_sub_categories_one_hot = vectorizer.fit_transform(X_train['clean_subcategories'].values)\n",
        "print(vectorizer.get_feature_names())\n",
        "\n",
        "print(\"=\"*125)\n",
        "print(\"Shape of matrix X_train_sub_categories_one_hot after one hot encodig \",X_train_sub_categories_one_hot.shape)\n",
        "\n",
        "X_test_sub_categories_one_hot = vectorizer.transform(X_test['clean_subcategories'].values)\n",
        "print(\"Shape of matrix X_test_sub_categories_one_hot after one hot encodig \",X_test_sub_categories_one_hot.shape)"
      ],
      "execution_count": 0,
      "outputs": [
        {
          "output_type": "stream",
          "text": [
            "['AppliedSciences', 'CharacterEducation', 'Civics_Government', 'College_CareerPrep', 'CommunityService', 'ESL', 'EarlyDevelopment', 'Economics', 'EnvironmentalScience', 'Extracurricular', 'FinancialLiteracy', 'ForeignLanguages', 'Gym_Fitness', 'Health_LifeScience', 'Health_Wellness', 'History_Geography', 'Literacy', 'Literature_Writing', 'Mathematics', 'Music', 'NutritionEducation', 'Other', 'ParentInvolvement', 'PerformingArts', 'SocialSciences', 'SpecialNeeds', 'TeamSports', 'VisualArts']\n",
            "=============================================================================================================================\n",
            "Shape of matrix X_train_sub_categories_one_hot after one hot encodig  (20100, 28)\n",
            "Shape of matrix X_test_sub_categories_one_hot after one hot encodig  (9900, 28)\n"
          ],
          "name": "stdout"
        }
      ]
    },
    {
      "cell_type": "markdown",
      "metadata": {
        "colab_type": "text",
        "id": "52HRXcjN5tto"
      },
      "source": [
        "### 2.8.3 One Hot Encoding Representation of School State for train test"
      ]
    },
    {
      "cell_type": "code",
      "metadata": {
        "colab_type": "code",
        "id": "MYR_tSfb5ttp",
        "outputId": "00085171-ea8c-4687-801e-73f9b65b0de6",
        "colab": {
          "base_uri": "https://localhost:8080/",
          "height": 105
        }
      },
      "source": [
        "# we use count vectorizer to convert the values into one hot encoded features\n",
        "#from sklearn.feature_extraction.text import CountVectorizer\n",
        "\n",
        "vectorizer = CountVectorizer(lowercase=False, binary=True)\n",
        "\n",
        "X_train_school_state_one_hot=vectorizer.fit_transform(X_train['school_state'].values)\n",
        "print(vectorizer.get_feature_names())\n",
        "\n",
        "print(\"=\"*125)\n",
        "print(\"Shape of matrix X_train_state after one hot encodig \",X_train_school_state_one_hot.shape)\n",
        "\n",
        "\n",
        "X_test_school_state_one_hot = vectorizer.transform(X_test['school_state'].values)\n",
        "print(\"Shape of matrix X_test_school_state_one_hot after one hot encodig \",X_test_school_state_one_hot.shape)"
      ],
      "execution_count": 0,
      "outputs": [
        {
          "output_type": "stream",
          "text": [
            "['AK', 'AL', 'AR', 'AZ', 'CA', 'CO', 'CT', 'DC', 'DE', 'FL', 'GA', 'HI', 'IA', 'ID', 'IL', 'IN', 'KS', 'KY', 'LA', 'MA', 'MD', 'ME', 'MI', 'MN', 'MO', 'MS', 'MT', 'NC', 'ND', 'NE', 'NH', 'NJ', 'NM', 'NV', 'NY', 'OH', 'OK', 'OR', 'PA', 'RI', 'SC', 'SD', 'TN', 'TX', 'UT', 'VA', 'VT', 'WA', 'WI', 'WV', 'WY']\n",
            "=============================================================================================================================\n",
            "Shape of matrix X_train_state after one hot encodig  (20100, 51)\n",
            "Shape of matrix X_test_school_state_one_hot after one hot encodig  (9900, 51)\n"
          ],
          "name": "stdout"
        }
      ]
    },
    {
      "cell_type": "markdown",
      "metadata": {
        "colab_type": "text",
        "id": "G3AV59Ic5ttv"
      },
      "source": [
        "### 2.8.4 One Hot Encoding Representation of Teacher Prefix for train test "
      ]
    },
    {
      "cell_type": "code",
      "metadata": {
        "colab_type": "code",
        "id": "DEWSueFO5ttw",
        "outputId": "4b166174-df0b-4dab-ead6-85de62571041",
        "colab": {
          "base_uri": "https://localhost:8080/",
          "height": 85
        }
      },
      "source": [
        "# we use count vectorizer to convert the values into one hot encoded features\n",
        "#search term \"np.nan is an invalid document, expected byte or unicode string.\"::https://stackoverflow.com/questions/39303912/tfidfvectorizer-in-scikit-learn-valueerror-np-nan-is-an-invalid-document/39308809\n",
        "# search tern \"np.nan is an invalid document, expected byte or unicode string\" ::https://stackoverflow.com/questions/39303912/tfidfvectorizer-in-scikit-learn-valueerror-np-nan-is-an-invalid-document\n",
        "\n",
        "\n",
        "vectorizer = CountVectorizer(lowercase=False, binary=True)\n",
        "\n",
        "X_train_teacher_prefix_one_hot = vectorizer.fit_transform(X_train['teacher_prefix_clean'].values.astype('U'))\n",
        "print(vectorizer.get_feature_names())\n",
        "print(\"=\"*125)\n",
        "print(\"Shape of X_train_teacher_prefix___one_hot matrix after one hot encodig \",X_train_teacher_prefix_one_hot.shape)\n",
        "\n",
        "\n",
        "X_test_teacher_prefix_one_hot = vectorizer.transform(X_test['teacher_prefix_clean'].values.astype('U'))\n",
        "print(\"Shape of X_test_teacher_prefix_one_hot matrix after one hot encodig \",X_test_teacher_prefix_one_hot.shape)"
      ],
      "execution_count": 0,
      "outputs": [
        {
          "output_type": "stream",
          "text": [
            "['Dr', 'Mr', 'Mrs', 'Ms', 'Teacher', 'nan']\n",
            "=============================================================================================================================\n",
            "Shape of X_train_teacher_prefix___one_hot matrix after one hot encodig  (20100, 6)\n",
            "Shape of X_test_teacher_prefix_one_hot matrix after one hot encodig  (9900, 6)\n"
          ],
          "name": "stdout"
        }
      ]
    },
    {
      "cell_type": "markdown",
      "metadata": {
        "colab_type": "text",
        "id": "SeBMb0_55tt2"
      },
      "source": [
        "### 2.8.5  One Hot Encoding Representation of Project Grades for train test"
      ]
    },
    {
      "cell_type": "code",
      "metadata": {
        "colab_type": "code",
        "id": "zvWCY__15tt3",
        "outputId": "b7e3ca17-ad98-41e1-afc5-ae6d0e406063",
        "colab": {
          "base_uri": "https://localhost:8080/",
          "height": 85
        }
      },
      "source": [
        "#reference::https://www.appliedaicourse.com/course/applied-ai-course-online\n",
        "#https://www.kaggle.com/naveennagari/donorschoose-eda-and-tsne/notebook\n",
        "\n",
        "vectorizer = CountVectorizer(lowercase=False, binary=True)\n",
        "\n",
        "X_train_project_grade_one_hot = vectorizer.fit_transform(X_train['cleaned_Grades'])\n",
        "print(vectorizer.get_feature_names())\n",
        "print(\"=\"*125)\n",
        "print(\"Shape of X_train_project_grade_one_hot matrix after one hot encodig for school states \",X_train_project_grade_one_hot.shape)\n",
        "\n",
        "\n",
        "\n",
        "X_test_project_grade_one_hot = vectorizer.transform(X_test['cleaned_Grades'])\n",
        "print(\"Shape of X_test_project_grade_one_hot matrix after one hot encodig for school states \",X_test_project_grade_one_hot.shape)"
      ],
      "execution_count": 0,
      "outputs": [
        {
          "output_type": "stream",
          "text": [
            "['Grades_3_5', 'Grades_6_8', 'Grades_9_12', 'Grades_PreK_2']\n",
            "=============================================================================================================================\n",
            "Shape of X_train_project_grade_one_hot matrix after one hot encodig for school states  (20100, 4)\n",
            "Shape of X_test_project_grade_one_hot matrix after one hot encodig for school states  (9900, 4)\n"
          ],
          "name": "stdout"
        }
      ]
    },
    {
      "cell_type": "markdown",
      "metadata": {
        "colab_type": "text",
        "id": "BbCWPCFi5tt9"
      },
      "source": [
        "## 2.9 Vectorizing Numerical Feature "
      ]
    },
    {
      "cell_type": "markdown",
      "metadata": {
        "colab_type": "text",
        "id": "xI1HOB1H5tt9"
      },
      "source": [
        "### 2.9.1 Numerical Feature Price Standadize to Train Test"
      ]
    },
    {
      "cell_type": "code",
      "metadata": {
        "colab_type": "code",
        "id": "sOZ6ewyK5tt-",
        "outputId": "d039a299-fa69-4aed-d234-1acc17bc7356",
        "scrolled": false,
        "colab": {
          "base_uri": "https://localhost:8080/",
          "height": 85
        }
      },
      "source": [
        "from sklearn.preprocessing import Normalizer\n",
        "normalizer = Normalizer()\n",
        "# normalizer.fit(X_train['price'].values)\n",
        "# this will rise an error Expected 2D array, got 1D array instead: \n",
        "# array=[105.22 215.96  96.01 ... 368.98  80.53 709.67].\n",
        "# Reshape your data either using \n",
        "# array.reshape(-1, 1) if your data has a single feature \n",
        "# array.reshape(1, -1)  if it contains a single sample.\n",
        "normalizer.fit(X_train['price'].values.reshape(1,-1))\n",
        "#normalizer.fit(X_cv['price'].values.reshape(1,-1))\n",
        "#normalizer.fit(X_train['price'].values.reshape(1,-1))\n",
        "\n",
        "from sklearn.preprocessing import Normalizer\n",
        "normalizer = Normalizer()\n",
        "# normalizer.fit(X_train['price'].values)\n",
        "# this will rise an error Expected 2D array, got 1D array instead: \n",
        "# array=[105.22 215.96  96.01 ... 368.98  80.53 709.67].\n",
        "# Reshape your data either using \n",
        "# array.reshape(-1, 1) if your data has a single feature \n",
        "# array.reshape(1, -1)  if it contains a single sample.\n",
        "\n",
        "X_train_price_norm = normalizer.fit_transform(X_train['price'].values.reshape(1,-1))\n",
        "\n",
        "X_test_price_norm = normalizer.transform(X_test['price'].values.reshape(1,-1))\n",
        "\n",
        "X_train_price_norm=X_train_price_norm.reshape(-1,1)\n",
        "X_test_price_norm=X_test_price_norm.reshape(-1,1)\n",
        "\n",
        "\n",
        "print(\"After vectorizations\")\n",
        "print(\"=\"*100)\n",
        "print(\"Shape of Matrix X_train_price_norm:\",X_train_price_norm.shape,\", Shape of Matrix y_train:\", y_train.shape)\n",
        "print(\"Shape of Matrix X_test_price_norm:\",X_test_price_norm.shape, \", Shape of Matrix y_test:\",y_test.shape)"
      ],
      "execution_count": 0,
      "outputs": [
        {
          "output_type": "stream",
          "text": [
            "After vectorizations\n",
            "====================================================================================================\n",
            "Shape of Matrix X_train_price_norm: (20100, 1) , Shape of Matrix y_train: (20100,)\n",
            "Shape of Matrix X_test_price_norm: (9900, 1) , Shape of Matrix y_test: (9900,)\n"
          ],
          "name": "stdout"
        }
      ]
    },
    {
      "cell_type": "markdown",
      "metadata": {
        "colab_type": "text",
        "id": "Pxky8OgH5tuB"
      },
      "source": [
        "### 2.9.2 Numerical Feature teacher_number_of_previously_posted_projects to Train Test "
      ]
    },
    {
      "cell_type": "code",
      "metadata": {
        "colab_type": "code",
        "id": "QHk80zYG5tuC",
        "outputId": "557644b4-17f8-4b64-e80c-42ddf3bec2b7",
        "colab": {
          "base_uri": "https://localhost:8080/",
          "height": 136
        }
      },
      "source": [
        "from sklearn.preprocessing import Normalizer\n",
        "normalizer = Normalizer()\n",
        "# this will rise an error Expected 2D array, got 1D array instead: \n",
        "# array=[105.22 215.96  96.01 ... 368.98  80.53 709.67].\n",
        "# Reshape your data either using \n",
        "# array.reshape(-1, 1) if your data has a single feature \n",
        "# array.reshape(1, -1)  if it contains a single sample.\n",
        "#normalizer.fit(X_cv['teacher_number_of_previously_posted_projects'].values.reshape(1,-1))\n",
        "#normalizer.fit(X_test['teacher_number_of_previously_posted_projects'].values.reshape(1,-1))\n",
        "\n",
        "from sklearn.preprocessing import Normalizer\n",
        "normalizer = Normalizer()\n",
        "# normalizer.fit(X_train['price'].values)\n",
        "# this will rise an error Expected 2D array, got 1D array instead: \n",
        "# array=[105.22 215.96  96.01 ... 368.98  80.53 709.67].\n",
        "# Reshape your data either using \n",
        "# array.reshape(-1, 1) if your data has a single feature \n",
        "# array.reshape(1, -1)  if it contains a single sample.\n",
        "#normalizer.fit(X_train['price'].values.reshape(1,-1))\n",
        "\n",
        "X_train_teacher_number_of_previously_posted_projects_norm = normalizer.fit_transform(X_train['teacher_number_of_previously_posted_projects'].values.reshape(1,-1))\n",
        "X_test_teacher_number_of_previously_posted_projects_norm = normalizer.transform(X_test['teacher_number_of_previously_posted_projects'].values.reshape(1,-1))\n",
        "\n",
        "X_train_teacher_number_of_previously_posted_projects_norm=X_train_teacher_number_of_previously_posted_projects_norm.reshape(-1,1)\n",
        "X_test_teacher_number_of_previously_posted_projects_norm=X_test_teacher_number_of_previously_posted_projects_norm.reshape(-1,1)\n",
        "\n",
        "print(\"After vectorizations\")\n",
        "print(\"=\"*100)\n",
        "print(\"Shape of Matrix X_train_teacher_number_of_previously_posted_projects_norm:\",X_train_teacher_number_of_previously_posted_projects_norm.shape,\"\\nShape of Matrix y_train:\", y_train.shape)\n",
        "print(\"Shape of Matrix X_test_teacher_number_of_previously_posted_projects_norm:\",X_test_teacher_number_of_previously_posted_projects_norm.shape,\"\\nShape of Matrix y_test:\", y_test.shape)\n",
        "print(\"=\"*100)\n"
      ],
      "execution_count": 0,
      "outputs": [
        {
          "output_type": "stream",
          "text": [
            "After vectorizations\n",
            "====================================================================================================\n",
            "Shape of Matrix X_train_teacher_number_of_previously_posted_projects_norm: (20100, 1) \n",
            "Shape of Matrix y_train: (20100,)\n",
            "Shape of Matrix X_test_teacher_number_of_previously_posted_projects_norm: (9900, 1) \n",
            "Shape of Matrix y_test: (9900,)\n",
            "====================================================================================================\n"
          ],
          "name": "stdout"
        }
      ]
    },
    {
      "cell_type": "markdown",
      "metadata": {
        "colab_type": "text",
        "id": "7v0V_PG15tuG"
      },
      "source": [
        "### 2.9.3 Numerical Feature Quantities to Train Test "
      ]
    },
    {
      "cell_type": "code",
      "metadata": {
        "colab_type": "code",
        "id": "Sb3TGGzi5tuG",
        "outputId": "2476367e-3cec-437f-a0a6-abf1d5cbce60",
        "colab": {
          "base_uri": "https://localhost:8080/",
          "height": 102
        }
      },
      "source": [
        "from sklearn.preprocessing import Normalizer\n",
        "normalizer = Normalizer()\n",
        "# normalizer.fit(X_train['price'].values)\n",
        "# this will rise an error Expected 2D array, got 1D array instead: \n",
        "# array=[105.22 215.96  96.01 ... 368.98  80.53 709.67].\n",
        "# Reshape your data either using \n",
        "# array.reshape(-1, 1) if your data has a single feature \n",
        "# array.reshape(1, -1)  if it contains a single sample.\n",
        "\n",
        "from sklearn.preprocessing import Normalizer\n",
        "normalizer = Normalizer()\n",
        "# normalizer.fit(X_train['price'].values)\n",
        "# this will rise an error Expected 2D array, got 1D array instead: \n",
        "# array=[105.22 215.96  96.01 ... 368.98  80.53 709.67].\n",
        "# Reshape your data either using \n",
        "# array.reshape(-1, 1) if your data has a single feature \n",
        "# array.reshape(1, -1)  if it contains a single sample.\n",
        "#normalizer.fit(X_train['quantity'].values.reshape(1,-1))\n",
        "\n",
        "X_train_quantity_norm = normalizer.fit_transform(X_train['quantity'].values.reshape(1,-1))\n",
        "X_test_quantity_norm = normalizer.transform(X_test['quantity'].values.reshape(1,-1))\n",
        "\n",
        "\n",
        "X_train_quantity_norm=X_train_quantity_norm.reshape(-1,1)\n",
        "X_test_quantity_norm=X_test_quantity_norm.reshape(-1,1)\n",
        "\n",
        "\n",
        "print(\"After vectorizations\")\n",
        "print(\"=\"*100)\n",
        "print(\"Shape of Matrix X_train_quantity_norm:\",X_train_quantity_norm.shape,\", Shape of Matrix y_train:\", y_train.shape)\n",
        "print(\"Shape of Matrix X_test_quantity_norm:\",X_test_quantity_norm.shape, \", Shape of Matrix y_test:\",y_test.shape)\n",
        "print(\"=\"*100)\n",
        "\n",
        "\n"
      ],
      "execution_count": 0,
      "outputs": [
        {
          "output_type": "stream",
          "text": [
            "After vectorizations\n",
            "====================================================================================================\n",
            "Shape of Matrix X_train_quantity_norm: (20100, 1) , Shape of Matrix y_train: (20100,)\n",
            "Shape of Matrix X_test_quantity_norm: (9900, 1) , Shape of Matrix y_test: (9900,)\n",
            "====================================================================================================\n"
          ],
          "name": "stdout"
        }
      ]
    },
    {
      "cell_type": "markdown",
      "metadata": {
        "colab_type": "text",
        "id": "GKQomMQ15tuR"
      },
      "source": [
        "### 2.9.4 Normalization of  Feature Sentiment Score to Train Test"
      ]
    },
    {
      "cell_type": "code",
      "metadata": {
        "colab_type": "code",
        "id": "9Zip3Avw5tuT",
        "outputId": "6d6497f2-a638-455d-89b0-0d535ff26453",
        "colab": {
          "base_uri": "https://localhost:8080/",
          "height": 102
        }
      },
      "source": [
        "from sklearn.preprocessing import Normalizer\n",
        "normalizer = Normalizer()\n",
        "# normalizer.fit(X_train['price'].values)\n",
        "# this will rise an error Expected 2D array, got 1D array instead: \n",
        "# array=[105.22 215.96  96.01 ... 368.98  80.53 709.67].\n",
        "# Reshape your data either using \n",
        "# array.reshape(-1, 1) if your data has a single feature \n",
        "# array.reshape(1, -1)  if it contains a single sample.\n",
        "\n",
        "from sklearn.preprocessing import Normalizer\n",
        "normalizer = Normalizer()\n",
        "# normalizer.fit(X_train['price'].values)\n",
        "# this will rise an error Expected 2D array, got 1D array instead: \n",
        "# array=[105.22 215.96  96.01 ... 368.98  80.53 709.67].\n",
        "# Reshape your data either using \n",
        "# array.reshape(-1, 1) if your data has a single feature \n",
        "# array.reshape(1, -1)  if it contains a single sample.\n",
        "#normalizer.fit(X_train['quantity'].values.reshape(1,-1))\n",
        "\n",
        "X_train_sentiment_score_norm = normalizer.fit_transform(X_train['sentiment_score'].values.reshape(1,-1))\n",
        "X_test_sentiment_score_norm = normalizer.transform(X_test['sentiment_score'].values.reshape(1,-1))\n",
        "\n",
        "\n",
        "X_train_sentiment_score_norm=X_train_sentiment_score_norm.reshape(-1,1)\n",
        "X_test_sentiment_score_norm=X_test_sentiment_score_norm.reshape(-1,1)\n",
        "\n",
        "\n",
        "print(\"After vectorizations\")\n",
        "print(\"=\"*100)\n",
        "print(\"Shape of Matrix X_train_sentiment_score_norm:\",X_train_sentiment_score_norm.shape,\", Shape of Matrix y_train:\", y_train.shape)\n",
        "print(\"Shape of Matrix X_test_sentiment_score_norm:\",X_test_sentiment_score_norm.shape, \", Shape of Matrix y_test:\",y_test.shape)\n",
        "print(\"=\"*100)\n"
      ],
      "execution_count": 0,
      "outputs": [
        {
          "output_type": "stream",
          "text": [
            "After vectorizations\n",
            "====================================================================================================\n",
            "Shape of Matrix X_train_sentiment_score_norm: (20100, 1) , Shape of Matrix y_train: (20100,)\n",
            "Shape of Matrix X_test_sentiment_score_norm: (9900, 1) , Shape of Matrix y_test: (9900,)\n",
            "====================================================================================================\n"
          ],
          "name": "stdout"
        }
      ]
    },
    {
      "cell_type": "markdown",
      "metadata": {
        "colab_type": "text",
        "id": "s8UNVKeo5tuY"
      },
      "source": [
        "### 2.9.5 Normalization of  Number of words Essays Train Test"
      ]
    },
    {
      "cell_type": "code",
      "metadata": {
        "colab_type": "code",
        "id": "QI0-TsjX5tuZ",
        "outputId": "5f36d247-37ae-484d-903f-ba6554bbf43d",
        "colab": {
          "base_uri": "https://localhost:8080/",
          "height": 102
        }
      },
      "source": [
        "from sklearn.preprocessing import Normalizer\n",
        "normalizer = Normalizer()\n",
        "# normalizer.fit(X_train['price'].values)\n",
        "# this will rise an error Expected 2D array, got 1D array instead: \n",
        "# array=[105.22 215.96  96.01 ... 368.98  80.53 709.67].\n",
        "# Reshape your data either using \n",
        "# array.reshape(-1, 1) if your data has a single feature \n",
        "# array.reshape(1, -1)  if it contains a single sample.\n",
        "\n",
        "from sklearn.preprocessing import Normalizer\n",
        "normalizer = Normalizer()\n",
        "# normalizer.fit(X_train['price'].values)\n",
        "# this will rise an error Expected 2D array, got 1D array instead: \n",
        "# array=[105.22 215.96  96.01 ... 368.98  80.53 709.67].\n",
        "# Reshape your data either using \n",
        "# array.reshape(-1, 1) if your data has a single feature \n",
        "# array.reshape(1, -1)  if it contains a single sample.\n",
        "#normalizer.fit(X_train['quantity'].values.reshape(1,-1))\n",
        "\n",
        "X_train_number_words_essays_norm = normalizer.fit_transform(X_train['number_words_essays'].values.reshape(1,-1))\n",
        "X_test_number_words_essays_norm = normalizer.transform(X_test['number_words_essays'].values.reshape(1,-1))\n",
        "\n",
        "\n",
        "X_train_number_words_essays_norm=X_train_number_words_essays_norm.reshape(-1,1)\n",
        "X_test_number_words_essays_norm=X_test_number_words_essays_norm.reshape(-1,1)\n",
        "\n",
        "\n",
        "print(\"After vectorizations\")\n",
        "print(\"=\"*100)\n",
        "print(\"Shape of Matrix X_train_number_words_essays_norm:\",X_train_number_words_essays_norm.shape,\", Shape of Matrix y_train:\", y_train.shape)\n",
        "print(\"Shape of Matrix X_test_number_words_essays_norm:\",X_test_number_words_essays_norm.shape, \", Shape of Matrix y_test:\",y_test.shape)\n",
        "print(\"=\"*100)\n"
      ],
      "execution_count": 0,
      "outputs": [
        {
          "output_type": "stream",
          "text": [
            "After vectorizations\n",
            "====================================================================================================\n",
            "Shape of Matrix X_train_number_words_essays_norm: (20100, 1) , Shape of Matrix y_train: (20100,)\n",
            "Shape of Matrix X_test_number_words_essays_norm: (9900, 1) , Shape of Matrix y_test: (9900,)\n",
            "====================================================================================================\n"
          ],
          "name": "stdout"
        }
      ]
    },
    {
      "cell_type": "markdown",
      "metadata": {
        "colab_type": "text",
        "id": "sDHR9JKV5tud"
      },
      "source": [
        "### 2.9.6 Normalization of  Number of words Project Title Train ,Test"
      ]
    },
    {
      "cell_type": "code",
      "metadata": {
        "colab_type": "code",
        "id": "CTEevf9G5tue",
        "outputId": "57077a3a-0d90-43d6-fd6f-3418e3c39dbc",
        "colab": {
          "base_uri": "https://localhost:8080/",
          "height": 102
        }
      },
      "source": [
        "from sklearn.preprocessing import Normalizer\n",
        "normalizer = Normalizer()\n",
        "# normalizer.fit(X_train['price'].values)\n",
        "# this will rise an error Expected 2D array, got 1D array instead: \n",
        "# array=[105.22 215.96  96.01 ... 368.98  80.53 709.67].\n",
        "# Reshape your data either using \n",
        "# array.reshape(-1, 1) if your data has a single feature \n",
        "# array.reshape(1, -1)  if it contains a single sample.\n",
        "\n",
        "from sklearn.preprocessing import Normalizer\n",
        "normalizer = Normalizer()\n",
        "# normalizer.fit(X_train['price'].values)\n",
        "# this will rise an error Expected 2D array, got 1D array instead: \n",
        "# array=[105.22 215.96  96.01 ... 368.98  80.53 709.67].\n",
        "# Reshape your data either using \n",
        "# array.reshape(-1, 1) if your data has a single feature \n",
        "# array.reshape(1, -1)  if it contains a single sample.\n",
        "#normalizer.fit(X_train['quantity'].values.reshape(1,-1))\n",
        "\n",
        "X_train_number_words_project_title_norm = normalizer.fit_transform(X_train['number_words_project_title'].values.reshape(1,-1))\n",
        "X_test_number_words_project_title_norm = normalizer.transform(X_test['number_words_project_title'].values.reshape(1,-1))\n",
        "\n",
        "\n",
        "X_train_number_words_project_title_norm=X_train_number_words_project_title_norm.reshape(-1,1)\n",
        "X_test_number_words_project_title_norm=X_test_number_words_project_title_norm.reshape(-1,1)\n",
        "\n",
        "\n",
        "print(\"After vectorizations\")\n",
        "print(\"=\"*100)\n",
        "print(\"Shape of Matrix X_train_number_words_project_title_norm:\",X_train_number_words_project_title_norm.shape,\", Shape of Matrix y_train:\", y_train.shape)\n",
        "print(\"Shape of Matrix X_test_number_words_project_title_norm:\",X_test_number_words_project_title_norm.shape, \", Shape of Matrix y_test:\",y_test.shape)\n",
        "print(\"=\"*100)\n"
      ],
      "execution_count": 0,
      "outputs": [
        {
          "output_type": "stream",
          "text": [
            "After vectorizations\n",
            "====================================================================================================\n",
            "Shape of Matrix X_train_number_words_project_title_norm: (20100, 1) , Shape of Matrix y_train: (20100,)\n",
            "Shape of Matrix X_test_number_words_project_title_norm: (9900, 1) , Shape of Matrix y_test: (9900,)\n",
            "====================================================================================================\n"
          ],
          "name": "stdout"
        }
      ]
    },
    {
      "cell_type": "markdown",
      "metadata": {
        "colab_type": "text",
        "id": "wvJPG5dt5tuj"
      },
      "source": [
        "## 3 Applying XGBoost on avg_w2v,<font color='red'> SET 1</font>"
      ]
    },
    {
      "cell_type": "markdown",
      "metadata": {
        "colab_type": "text",
        "id": "529ZcGUG5tuk"
      },
      "source": [
        "### 3.1 Merging all the above features for avg_w2v"
      ]
    },
    {
      "cell_type": "code",
      "metadata": {
        "colab_type": "code",
        "id": "rFsbtFA_5tul",
        "outputId": "e7f53a5a-b3a9-4954-8cc4-9e8650995eeb",
        "colab": {
          "base_uri": "https://localhost:8080/",
          "height": 85
        }
      },
      "source": [
        "from scipy.sparse import hstack\n",
        "\n",
        "\n",
        "X_tr_avg_w2v=hstack((X_train_essays_avg_w2v_,X_train_project_title_avg_w2v_,X_train_categories_one_hot,X_train_sub_categories_one_hot,\n",
        "                X_train_project_grade_one_hot,X_train_school_state_one_hot,\n",
        "                 X_train_teacher_prefix_one_hot,X_train_price_norm,X_train_teacher_number_of_previously_posted_projects_norm,X_train_quantity_norm,\n",
        "                 X_train_number_words_essays_norm,X_train_number_words_project_title_norm,X_train_sentiment_score_norm)).tocsr()\n",
        "\n",
        "\n",
        "X_test_avg_w2v=hstack((X_test_essays_avg_w2v_,X_test_project_title_avg_w2v_,X_test_categories_one_hot,X_test_sub_categories_one_hot,\n",
        "                X_test_project_grade_one_hot,X_test_school_state_one_hot,\n",
        "                 X_test_teacher_prefix_one_hot,X_test_price_norm,X_test_teacher_number_of_previously_posted_projects_norm,X_test_quantity_norm,\n",
        "                 X_test_number_words_essays_norm,X_test_number_words_project_title_norm,X_test_sentiment_score_norm)).tocsr()\n",
        "\n",
        "\n",
        "print(\"Final Data matrix\")\n",
        "print(\"X_tr_avg_w2v shape:\",X_tr_avg_w2v.shape,\", y_train:\", y_train.shape)\n",
        "print(\"X_test_avg_w2v shape:\",X_test_avg_w2v.shape,\", y_test:\", y_test.shape)\n",
        "print(\"=\"*100)"
      ],
      "execution_count": 0,
      "outputs": [
        {
          "output_type": "stream",
          "text": [
            "Final Data matrix\n",
            "X_tr_avg_w2v shape: (20100, 502) , y_train: (20100,)\n",
            "X_test_avg_w2v shape: (9900, 502) , y_test: (9900,)\n",
            "====================================================================================================\n"
          ],
          "name": "stdout"
        }
      ]
    },
    {
      "cell_type": "markdown",
      "metadata": {
        "colab_type": "text",
        "id": "c2fO9ChbcbJs"
      },
      "source": [
        "## 3.2 Hyperparameter Tuning n_estimators & max_depth of XGBoost"
      ]
    },
    {
      "cell_type": "code",
      "metadata": {
        "colab_type": "code",
        "id": "Lahrczkr5tvm",
        "outputId": "6b5e9cc1-c004-4296-a44c-b65edd3fd72b",
        "colab": {
          "base_uri": "https://localhost:8080/",
          "height": 459
        }
      },
      "source": [
        "from sklearn.model_selection import GridSearchCV\n",
        "from sklearn.model_selection import RandomizedSearchCV\n",
        "import xgboost as xgb\n",
        "import time\n",
        "\n",
        "GBDT = xgb.XGBClassifier(n_jobs=-1,class_weight='balanced')\n",
        "parameters = {'n_estimators': [1,2,3,4,5], 'max_depth':[2,3,4,5,6 ]}\n",
        "clf = RandomizedSearchCV(GBDT, parameters, cv= 2, scoring='roc_auc',return_train_score=True,n_jobs=-1,verbose=20)\n",
        "clf.fit(X_tr_avg_w2v, y_train)\n",
        "\n",
        "results = pd.DataFrame.from_dict(clf.cv_results_)\n",
        "#results = results.sort_values(['param_n_neighbors'])\n",
        "\n",
        "#https://stackoverflow.com/questions/57136676/sklearn-model-selection-gridsearchcv-is-throwing-keyerror-mean-train-score\n",
        "\n",
        "train_auc= results['mean_train_score']\n",
        "train_auc_std= results['std_train_score']\n",
        "cv_auc = results['mean_test_score'] \n",
        "cv_auc_std=results['std_test_score']\n",
        "n_estimators= results['param_n_estimators']\n",
        "max_depth= results['param_max_depth']\n",
        "\n",
        "best_n_estimators=clf.best_params_\n",
        "print(\"=\"*100)\n",
        "Best_hyperparameter_GBDT_n_estimators_avg_w2v=best_n_estimators.get(\"n_estimators\")\n",
        "print(\"Best_hyperparameter_GBDT_n_estimators_avg_w2v:\",Best_hyperparameter_GBDT_n_estimators_avg_w2v)\n",
        "print(\"=\"*100)\n",
        "#results.head(2)\n",
        "\n",
        "\n",
        "best_max_depth=clf.best_params_\n",
        "print(\"=\"*100)\n",
        "Best_hyperparameter_GBDT_max_depth_avg_w2v=best_max_depth.get(\"max_depth\")\n",
        "print(\"Best_hyperparameter_GBDT_max_depth_avg_w2v:\",Best_hyperparameter_GBDT_max_depth_avg_w2v)\n",
        "print(\"=\"*100)\n",
        "#results.head(2)\n"
      ],
      "execution_count": 0,
      "outputs": [
        {
          "output_type": "stream",
          "text": [
            "Fitting 2 folds for each of 10 candidates, totalling 20 fits\n"
          ],
          "name": "stdout"
        },
        {
          "output_type": "stream",
          "text": [
            "[Parallel(n_jobs=-1)]: Using backend LokyBackend with 2 concurrent workers.\n",
            "[Parallel(n_jobs=-1)]: Done   1 tasks      | elapsed:   11.8s\n",
            "[Parallel(n_jobs=-1)]: Done   2 tasks      | elapsed:   11.8s\n",
            "[Parallel(n_jobs=-1)]: Done   3 tasks      | elapsed:   23.2s\n",
            "[Parallel(n_jobs=-1)]: Done   4 tasks      | elapsed:   23.3s\n",
            "[Parallel(n_jobs=-1)]: Done   5 tasks      | elapsed:   35.4s\n",
            "[Parallel(n_jobs=-1)]: Done   6 tasks      | elapsed:   35.5s\n",
            "[Parallel(n_jobs=-1)]: Done   7 tasks      | elapsed:   48.7s\n",
            "[Parallel(n_jobs=-1)]: Done   8 tasks      | elapsed:   48.7s\n",
            "[Parallel(n_jobs=-1)]: Done   9 tasks      | elapsed:   58.3s\n",
            "[Parallel(n_jobs=-1)]: Done  10 tasks      | elapsed:   58.3s\n",
            "[Parallel(n_jobs=-1)]: Done  11 tasks      | elapsed:  1.1min\n",
            "[Parallel(n_jobs=-1)]: Done  12 tasks      | elapsed:  1.1min\n",
            "[Parallel(n_jobs=-1)]: Done  13 tasks      | elapsed:  1.3min\n",
            "[Parallel(n_jobs=-1)]: Done  14 tasks      | elapsed:  1.3min\n",
            "[Parallel(n_jobs=-1)]: Done  15 tasks      | elapsed:  1.5min\n",
            "[Parallel(n_jobs=-1)]: Done  16 tasks      | elapsed:  1.5min\n",
            "[Parallel(n_jobs=-1)]: Done  17 tasks      | elapsed:  1.6min\n",
            "[Parallel(n_jobs=-1)]: Done  20 out of  20 | elapsed:  1.8min finished\n"
          ],
          "name": "stderr"
        },
        {
          "output_type": "stream",
          "text": [
            "====================================================================================================\n",
            "Best_hyperparameter_GBDT_n_estimators_avg_w2v: 5\n",
            "====================================================================================================\n",
            "====================================================================================================\n",
            "Best_hyperparameter_GBDT_max_depth_avg_w2v: 4\n",
            "====================================================================================================\n"
          ],
          "name": "stdout"
        }
      ]
    },
    {
      "cell_type": "code",
      "metadata": {
        "id": "EJDCi02x7mrX",
        "colab_type": "code",
        "outputId": "83eca6d3-07cc-435f-9429-aacaad738346",
        "colab": {
          "base_uri": "https://localhost:8080/",
          "height": 350
        }
      },
      "source": [
        "#https://www.kaggle.com/arindambanerjee/grid-search-simplified\n",
        "max_depth_list = list(clf.cv_results_['param_max_depth'].data)\n",
        "estimators_list = list(clf.cv_results_['param_n_estimators'].data)\n",
        "\n",
        "sns.set_style(\"whitegrid\")\n",
        "plt.figure(figsize=(20,5))\n",
        "\n",
        "plt.subplot(1,2,1)\n",
        "data = pd.DataFrame(data={'Estimators':estimators_list, 'Max Depth':max_depth_list, 'AUC':clf.cv_results_['mean_train_score']})\n",
        "data = data.pivot(index='Estimators', columns='Max Depth', values='AUC')\n",
        "sns.heatmap(data, annot=True, cmap=\"Blues\",annot_kws={\"size\": 16}).set_title('AUC for Train data')\n",
        "\n",
        "plt.subplot(1,2,2)\n",
        "data = pd.DataFrame(data={'Estimators':estimators_list, 'Max Depth':max_depth_list, 'AUC':clf.cv_results_['mean_test_score']})\n",
        "data = data.pivot(index='Estimators', columns='Max Depth', values='AUC')\n",
        "sns.heatmap(data, annot=True, cmap=\"Blues\",annot_kws={\"size\": 16}).set_title('AUC for CV data')\n",
        "plt.show()"
      ],
      "execution_count": 0,
      "outputs": [
        {
          "output_type": "display_data",
          "data": {
            "image/png": "[encoded data removed]",
            "text/plain": [
              "<Figure size 1440x360 with 4 Axes>"
            ]
          },
          "metadata": {
            "tags": []
          }
        }
      ]
    },
    {
      "cell_type": "markdown",
      "metadata": {
        "colab_type": "text",
        "id": "oaQDoEPdbgPR"
      },
      "source": [
        "## 3.3 ROC Curve on XGBoost with Best Hyperparameter "
      ]
    },
    {
      "cell_type": "code",
      "metadata": {
        "colab_type": "code",
        "id": "y68cXgTl5tvq",
        "outputId": "bd3372ee-dd5d-40b9-a975-c1629fe9c8ec",
        "colab": {
          "base_uri": "https://localhost:8080/",
          "height": 743
        }
      },
      "source": [
        "# https://scikit-learn.org/stable/modules/generated/sklearn.metrics.roc_curve.html#sklearn.metrics.roc_curve\n",
        "from sklearn.metrics import roc_curve, auc\n",
        "\n",
        "\n",
        "GBDT = xgb.XGBClassifier(n_estimators=Best_hyperparameter_GBDT_n_estimators_avg_w2v,\n",
        "                         max_depth=Best_hyperparameter_GBDT_max_depth_avg_w2v,\n",
        "                         n_jobs=-1,\n",
        "                         class_weight='balanced',)\n",
        "\n",
        "GBDT.fit(X_tr_avg_w2v, y_train)\n",
        "# roc_auc_score(y_true, y_score) the 2nd parameter should be probability estimates of the positive class\n",
        "# not the predicted outputs\n",
        "\n",
        "y_train_pred = GBDT.predict_proba(X_tr_avg_w2v)\n",
        "train_preds = y_train_pred[:,1]  ##https://stackoverflow.com/questions/25009284/how-to-plot-roc-curve-in-python\n",
        "y_test_pred = GBDT.predict_proba(X_test_avg_w2v)\n",
        "test_preds=y_test_pred[:,1] ##https://stackoverflow.com/questions/25009284/how-to-plot-roc-curve-in-python\n",
        "\n",
        "train_fpr, train_tpr, tr_thresholds = roc_curve(y_train, train_preds)\n",
        "test_fpr, test_tpr, te_thresholds = roc_curve(y_test, test_preds)\n",
        "\n",
        "plt.figure(figsize=(15,12))\n",
        "plt.plot(train_fpr, train_tpr, label=\"train AUC =\"+str(auc(train_fpr, train_tpr)))\n",
        "plt.plot(test_fpr, test_tpr, label=\"test AUC =\"+str(auc(test_fpr, test_tpr)))\n",
        "plt.legend()\n",
        "plt.xlabel(\"FPR\",fontsize=18)\n",
        "plt.ylabel(\"TPR\",fontsize=18)\n",
        "plt.title(\"ROC Curve for GBDT(XGBoost) (avg_w2v) \",fontsize=20)\n",
        "plt.grid()\n",
        "plt.show()\n",
        "\n",
        "test_AUC_avg_w2v=\"\"+str(auc(test_fpr, test_tpr))"
      ],
      "execution_count": 0,
      "outputs": [
        {
          "output_type": "display_data",
          "data": {
            "image/png": "[encoded data removed]",
            "text/plain": [
              "<Figure size 1080x864 with 1 Axes>"
            ]
          },
          "metadata": {
            "tags": []
          }
        }
      ]
    },
    {
      "cell_type": "code",
      "metadata": {
        "colab_type": "code",
        "id": "1xRSYPfVoRfs",
        "outputId": "ac0d8a08-7e25-4f5e-9a5c-c167aefb4a52",
        "colab": {
          "base_uri": "https://localhost:8080/",
          "height": 102
        }
      },
      "source": [
        "test_AUC_avg_w2v=\"\"+str(auc(test_fpr, test_tpr))\n",
        "test_AUC_avg_w2v=float(test_AUC_avg_w2v)\n",
        "test_AUC_avg_w2v=\"%.2f\" % round(test_AUC_avg_w2v,2)\n",
        "print(\"=\"*50)\n",
        "print(\"=\"*50)\n",
        "print(\"Test AUC score on XGBoost=\",test_AUC_avg_w2v)\n",
        "print(\"=\"*50)\n",
        "print(\"=\"*50)"
      ],
      "execution_count": 0,
      "outputs": [
        {
          "output_type": "stream",
          "text": [
            "==================================================\n",
            "==================================================\n",
            "Test AUC score on XGBoost= 0.66\n",
            "==================================================\n",
            "==================================================\n"
          ],
          "name": "stdout"
        }
      ]
    },
    {
      "cell_type": "markdown",
      "metadata": {
        "colab_type": "text",
        "id": "2tFa05iZnxS9"
      },
      "source": [
        "## 3.3 Confusion Matrix of XGBoost "
      ]
    },
    {
      "cell_type": "code",
      "metadata": {
        "colab_type": "code",
        "id": "3fUK9rJM5tvv",
        "colab": {}
      },
      "source": [
        "def find_best_threshold(threshould, fpr, tpr):\n",
        "    t = threshould[np.argmax(tpr*(1-fpr))]\n",
        "    # (tpr*(1-fpr)) will be maximum if your fpr is very low and tpr is very high\n",
        "    print(\"the maximum value of tpr*(1-fpr)\", max(tpr*(1-fpr)), \"for threshold\", np.round(t,3))\n",
        "    return t\n",
        "\n",
        "def predict_with_best_t(proba, threshould):\n",
        "    predictions = []\n",
        "    for i in proba:\n",
        "        if i>=threshould:\n",
        "            predictions.append(1)\n",
        "        else:\n",
        "            predictions.append(0)\n",
        "    return predictions\n",
        "\n"
      ],
      "execution_count": 0,
      "outputs": []
    },
    {
      "cell_type": "code",
      "metadata": {
        "colab_type": "code",
        "id": "L0Yn8HPz5vZi",
        "outputId": "d60da1de-c9cf-4d53-b78f-cbbad7213479",
        "colab": {
          "base_uri": "https://localhost:8080/",
          "height": 187
        }
      },
      "source": [
        "print(\"=\"*100)\n",
        "from sklearn.metrics import confusion_matrix\n",
        "best_t = find_best_threshold(tr_thresholds, train_fpr, train_tpr)\n",
        "\n",
        "print(\"=\"*100)\n",
        "print(\"Train confusion matrix\")\n",
        "print(confusion_matrix(y_train, predict_with_best_t(train_preds, best_t)))\n",
        "\n",
        "print(\"=\"*100)\n",
        "print(\"Test confusion matrix\")\n",
        "print(confusion_matrix(y_test, predict_with_best_t(test_preds, best_t)))"
      ],
      "execution_count": 0,
      "outputs": [
        {
          "output_type": "stream",
          "text": [
            "====================================================================================================\n",
            "the maximum value of tpr*(1-fpr) 0.4310910056925996 for threshold 0.638\n",
            "====================================================================================================\n",
            "Train confusion matrix\n",
            "[[ 2136   964]\n",
            " [ 6364 10636]]\n",
            "====================================================================================================\n",
            "Test confusion matrix\n",
            "[[ 850  677]\n",
            " [2661 5712]]\n"
          ],
          "name": "stdout"
        }
      ]
    },
    {
      "cell_type": "code",
      "metadata": {
        "colab_type": "code",
        "id": "x3Rq3kmy5vdf",
        "outputId": "ef5bf171-6473-4012-f878-565c812f1623",
        "colab": {
          "base_uri": "https://localhost:8080/",
          "height": 544
        }
      },
      "source": [
        "#https://scikit-learn.org/stable/auto_examples/model_selection/plot_confusion_matrix.html\n",
        "\n",
        "\n",
        "#https://medium.com/@dtuk81/confusion-matrix-visualization-fc31e3f30fea\n",
        "\n",
        "cf_matrix_test =confusion_matrix(y_test, predict_with_best_t(test_preds, best_t))\n",
        "\n",
        "\n",
        "plt.figure(figsize=(10,8))\n",
        "group_names = ['True Negative','False Positive','False Negtive','True Positive']\n",
        "group_counts = [\"{0:0.0f}\".format(value) for value in cf_matrix_test.flatten()]\n",
        "\n",
        "group_percentages = [\"{0:.2%}\".format(value) for value in cf_matrix_test.flatten()/np.sum(cf_matrix_test)]\n",
        "labels = [f\"{v1}\\n{v2}\\n{v3}\" for v1, v2, v3 in zip(group_names,group_counts,group_percentages)]\n",
        "labels = np.asarray(labels).reshape(2,2)\n",
        "sns.heatmap(cf_matrix_test, annot=labels, fmt='', cmap='Blues')\n",
        "plt.xlabel('Predicted', fontsize=18)\n",
        "plt.ylabel('Actual', fontsize=16)\n",
        "plt.title('XGBoost Test Confusion Matrix',fontsize=22)\n",
        "\n",
        "\n",
        "#sns.heatmap(cf_matrix, annot=True)\n",
        "\n",
        "#confusion_matrix(y_test,y_data_pred)"
      ],
      "execution_count": 0,
      "outputs": [
        {
          "output_type": "execute_result",
          "data": {
            "text/plain": [
              "Text(0.5, 1.0, 'XGBoost Test Confusion Matrix')"
            ]
          },
          "metadata": {
            "tags": []
          },
          "execution_count": 51
        },
        {
          "output_type": "display_data",
          "data": {
            "image/png": "[encoded data removed]",
            "text/plain": [
              "<Figure size 720x576 with 2 Axes>"
            ]
          },
          "metadata": {
            "tags": []
          }
        }
      ]
    }
  ]
}